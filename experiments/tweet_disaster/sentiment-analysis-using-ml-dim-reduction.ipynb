{
 "cells": [
  {
   "cell_type": "code",
   "execution_count": 1,
   "metadata": {},
   "outputs": [],
   "source": [
    "%load_ext autoreload\n",
    "%autoreload 2"
   ]
  },
  {
   "cell_type": "code",
   "execution_count": 2,
   "metadata": {},
   "outputs": [
    {
     "name": "stderr",
     "output_type": "stream",
     "text": [
      "[nltk_data] Downloading package stopwords to\n",
      "[nltk_data]     /home/bartalisd/nltk_data...\n",
      "[nltk_data]   Package stopwords is already up-to-date!\n",
      "[nltk_data] Downloading package punkt to /home/bartalisd/nltk_data...\n",
      "[nltk_data]   Package punkt is already up-to-date!\n"
     ]
    }
   ],
   "source": [
    "#Imports:\n",
    "from comet_ml import Experiment\n",
    "import pandas as pd\n",
    "import numpy as np\n",
    "import matplotlib.pyplot as plt\n",
    "import matplotlib\n",
    "import random\n",
    "from sklearn.feature_extraction.text import CountVectorizer,TfidfVectorizer\n",
    "from sklearn.naive_bayes import MultinomialNB,CategoricalNB\n",
    "import nltk\n",
    "nltk.download('stopwords')\n",
    "nltk.download('punkt')\n",
    "import re\n",
    "from nltk.corpus import stopwords\n",
    "import string\n",
    "from sklearn import preprocessing\n",
    "from sklearn.manifold import TSNE\n",
    "import seaborn as sns\n",
    "from nltk.stem.porter import PorterStemmer\n",
    "from sklearn.metrics import log_loss\n",
    "from sklearn.linear_model import LogisticRegression,SGDClassifier\n",
    "from sklearn import svm\n",
    "from nltk.tokenize import word_tokenize\n",
    "from sklearn.metrics import accuracy_score\n",
    "from time import time\n",
    "from sklearn.model_selection import StratifiedKFold\n",
    "from sklearn.decomposition import PCA\n",
    "import optuna\n",
    "sns.set(context='notebook', style='darkgrid', palette='colorblind', font='sans-serif', font_scale=1, rc=None)\n",
    "matplotlib.rcParams['figure.figsize'] =[8,8]\n",
    "matplotlib.rcParams.update({'font.size': 15})\n",
    "matplotlib.rcParams['font.family'] = 'sans-serif'"
   ]
  },
  {
   "cell_type": "code",
   "execution_count": 3,
   "metadata": {},
   "outputs": [],
   "source": [
    "#Load data:\n",
    "with open(\"../data_root.txt\") as f:\n",
    "    data_root_dir = f.read()\n",
    "data_root_dir\n",
    "train = pd.read_csv('%s/tweet_disaster/train.csv' % data_root_dir)\n",
    "test = pd.read_csv('%s/tweet_disaster/test.csv' % data_root_dir)\n",
    "#sub = pd.read_csv('../input/nlp-getting-started/sample_submission.csv')"
   ]
  },
  {
   "cell_type": "code",
   "execution_count": 4,
   "metadata": {},
   "outputs": [
    {
     "name": "stderr",
     "output_type": "stream",
     "text": [
      "[nltk_data] Downloading package stopwords to\n",
      "[nltk_data]     /home/bartalisd/nltk_data...\n",
      "[nltk_data]   Package stopwords is already up-to-date!\n",
      "[nltk_data] Downloading package punkt to /home/bartalisd/nltk_data...\n",
      "[nltk_data]   Package punkt is already up-to-date!\n",
      "/home/bartalisd/git/apricot_exp/experiments/tweet_disaster/data_analysis.py:23: SettingWithCopyWarning: \n",
      "A value is trying to be set on a copy of a slice from a DataFrame.\n",
      "Try using .loc[row_indexer,col_indexer] = value instead\n",
      "\n",
      "See the caveats in the documentation: https://pandas.pydata.org/pandas-docs/stable/user_guide/indexing.html#returning-a-view-versus-a-copy\n",
      "  train['text_length'] = train.text.apply(lambda x: len(x.split()))\n"
     ]
    }
   ],
   "source": [
    "#Analyse & clean data:\n",
    "from data_analysis import analysis, data_cleaning\n",
    "frame, train, vocabulary = analysis(train, test)\n",
    "X, Y = data_cleaning(train, test)"
   ]
  },
  {
   "cell_type": "code",
   "execution_count": 5,
   "metadata": {},
   "outputs": [],
   "source": [
    "#Train-test cut:\n",
    "from apricot_exp.evaluation import traintest\n",
    "X_train, X_test, Y_train, Y_test = traintest(X,Y,0.3)"
   ]
  },
  {
   "cell_type": "code",
   "execution_count": 6,
   "metadata": {},
   "outputs": [
    {
     "name": "stdout",
     "output_type": "stream",
     "text": [
      "(10000, 5264)\n",
      "(10000, 2257)\n"
     ]
    }
   ],
   "source": [
    "#TFIDF & transpose data:\n",
    "max_num_features = 10000\n",
    "from data_analysis import tfidf\n",
    "features_t, features_test_t = tfidf(X_train, X_test, max_num_features)\n",
    "print(features_t.shape)\n",
    "print(features_test_t.shape)"
   ]
  },
  {
   "cell_type": "code",
   "execution_count": 7,
   "metadata": {},
   "outputs": [],
   "source": [
    "from apricot_exp.comet_utils import *\n",
    "api_key = load_api_key('../../comet_key.txt')"
   ]
  },
  {
   "cell_type": "code",
   "execution_count": 8,
   "metadata": {},
   "outputs": [
    {
     "name": "stderr",
     "output_type": "stream",
     "text": [
      "COMET WARNING: Config key 'comet.auto_log.weights' is deprecated, please use 'comet.auto_log.histogram_weights' instead\n",
      "COMET INFO: Experiment is live on comet.ml https://www.comet.ml/apricot/tweet-disaster/ecbefb7ccf5a423f837b3fbb0ac5c67d\n",
      "\n"
     ]
    },
    {
     "name": "stdout",
     "output_type": "stream",
     "text": [
      "(5264, 9000) (2257, 9000)\n"
     ]
    },
    {
     "name": "stderr",
     "output_type": "stream",
     "text": [
      "COMET INFO: Uploading stats to Comet before program termination (may take several seconds)\n",
      "COMET INFO: Still uploading\n"
     ]
    }
   ],
   "source": [
    "#Bare model:\n",
    "model = LogisticRegression(max_iter=1000)\n",
    "n = 9000\n",
    "experiment=init_experiment(api_key, 'tweet_disaster', 'apricot')\n",
    "experiment.log_parameters({\n",
    "    'size': None,\n",
    "    'function': None,\n",
    "})\n",
    "tfidf = TfidfVectorizer(sublinear_tf=True,max_features=n, min_df=1, norm='l2',  ngram_range=(1,2))\n",
    "features = tfidf.fit_transform(X_train).toarray()\n",
    "features_test = tfidf.transform(X_test).toarray()\n",
    "print(features.shape, features_test.shape)\n",
    "from apricot_exp.evaluation import train_eval\n",
    "train_eval(model, features,  Y_train, features_test, Y_test, experiment)\n",
    "experiment.end()"
   ]
  },
  {
   "cell_type": "code",
   "execution_count": 9,
   "metadata": {},
   "outputs": [],
   "source": [
    "from apricot_exp.func_tp import featureb, facilityloc, maxcov\n",
    "from comet import suggest_config, extract_grid"
   ]
  },
  {
   "cell_type": "code",
   "execution_count": 10,
   "metadata": {},
   "outputs": [],
   "source": [
    "from optuna.samplers import TPESampler, RandomSampler, GridSampler\n",
    "from parameters import param, algo\n",
    "from apricot_exp.evaluation import train_eval"
   ]
  },
  {
   "cell_type": "code",
   "execution_count": 11,
   "metadata": {},
   "outputs": [
    {
     "name": "stderr",
     "output_type": "stream",
     "text": [
      "COMET WARNING: Config key 'comet.auto_log.weights' is deprecated, please use 'comet.auto_log.histogram_weights' instead\n",
      "COMET INFO: Experiment is live on comet.ml https://www.comet.ml/apricot/tweet-disaster/7d6f78b719ff48de9a0c8abd517b662f\n",
      "\n",
      "COMET INFO: Still uploading\n"
     ]
    },
    {
     "name": "stdout",
     "output_type": "stream",
     "text": [
      "naive\n",
      "8.883957386016846\n"
     ]
    },
    {
     "name": "stderr",
     "output_type": "stream",
     "text": [
      "COMET WARNING: Config key 'comet.auto_log.weights' is deprecated, please use 'comet.auto_log.histogram_weights' instead\n",
      "COMET INFO: Experiment is live on comet.ml https://www.comet.ml/apricot/tweet-disaster/c58ae00e7aa74150b48461585db4fb84\n",
      "\n",
      "COMET INFO: Still uploading\n"
     ]
    },
    {
     "name": "stdout",
     "output_type": "stream",
     "text": [
      "lazy\n",
      "5.935347080230713\n"
     ]
    },
    {
     "name": "stderr",
     "output_type": "stream",
     "text": [
      "COMET WARNING: Config key 'comet.auto_log.weights' is deprecated, please use 'comet.auto_log.histogram_weights' instead\n",
      "COMET INFO: Experiment is live on comet.ml https://www.comet.ml/apricot/tweet-disaster/4aee88119e8341ee89127ac68224290a\n",
      "\n",
      "COMET INFO: Still uploading\n"
     ]
    },
    {
     "name": "stdout",
     "output_type": "stream",
     "text": [
      "two-stage\n",
      "6.805429458618164\n"
     ]
    },
    {
     "name": "stderr",
     "output_type": "stream",
     "text": [
      "COMET WARNING: Config key 'comet.auto_log.weights' is deprecated, please use 'comet.auto_log.histogram_weights' instead\n",
      "COMET INFO: Experiment is live on comet.ml https://www.comet.ml/apricot/tweet-disaster/4009ffaa07c641a7b6d46483e6773c53\n",
      "\n",
      "COMET INFO: Still uploading\n"
     ]
    },
    {
     "name": "stdout",
     "output_type": "stream",
     "text": [
      "naive\n",
      "21.53317403793335\n"
     ]
    },
    {
     "name": "stderr",
     "output_type": "stream",
     "text": [
      "COMET WARNING: Config key 'comet.auto_log.weights' is deprecated, please use 'comet.auto_log.histogram_weights' instead\n",
      "COMET INFO: Experiment is live on comet.ml https://www.comet.ml/apricot/tweet-disaster/5eb3cb73ef0f4f8ea09cdd937afd92ad\n",
      "\n",
      "COMET INFO: Still uploading\n"
     ]
    },
    {
     "name": "stdout",
     "output_type": "stream",
     "text": [
      "lazy\n",
      "8.776475429534912\n"
     ]
    },
    {
     "name": "stderr",
     "output_type": "stream",
     "text": [
      "COMET WARNING: Config key 'comet.auto_log.weights' is deprecated, please use 'comet.auto_log.histogram_weights' instead\n",
      "COMET INFO: Experiment is live on comet.ml https://www.comet.ml/apricot/tweet-disaster/d9956c4c6cef4ee0baf0dcfbeae26253\n",
      "\n",
      "COMET INFO: Still uploading\n"
     ]
    },
    {
     "name": "stdout",
     "output_type": "stream",
     "text": [
      "two-stage\n",
      "24.756285667419434\n"
     ]
    },
    {
     "name": "stderr",
     "output_type": "stream",
     "text": [
      "COMET WARNING: Config key 'comet.auto_log.weights' is deprecated, please use 'comet.auto_log.histogram_weights' instead\n",
      "COMET INFO: Experiment is live on comet.ml https://www.comet.ml/apricot/tweet-disaster/b1666911cdd9432aa31ed2cc4e69d962\n",
      "\n",
      "COMET INFO: Still uploading\n"
     ]
    },
    {
     "name": "stdout",
     "output_type": "stream",
     "text": [
      "naive\n",
      "49.86116409301758\n"
     ]
    },
    {
     "name": "stderr",
     "output_type": "stream",
     "text": [
      "COMET WARNING: Config key 'comet.auto_log.weights' is deprecated, please use 'comet.auto_log.histogram_weights' instead\n",
      "COMET INFO: Experiment is live on comet.ml https://www.comet.ml/apricot/tweet-disaster/2795658ec0224b509b0aa7700e2a6e25\n",
      "\n",
      "COMET INFO: Still uploading\n"
     ]
    },
    {
     "name": "stdout",
     "output_type": "stream",
     "text": [
      "lazy\n",
      "24.49023127555847\n"
     ]
    },
    {
     "name": "stderr",
     "output_type": "stream",
     "text": [
      "COMET WARNING: Config key 'comet.auto_log.weights' is deprecated, please use 'comet.auto_log.histogram_weights' instead\n",
      "COMET INFO: Experiment is live on comet.ml https://www.comet.ml/apricot/tweet-disaster/839359c930b343c3bf7753d963cd8785\n",
      "\n",
      "COMET INFO: Still uploading\n"
     ]
    },
    {
     "name": "stdout",
     "output_type": "stream",
     "text": [
      "two-stage\n",
      "50.83109498023987\n"
     ]
    },
    {
     "name": "stderr",
     "output_type": "stream",
     "text": [
      "COMET WARNING: Config key 'comet.auto_log.weights' is deprecated, please use 'comet.auto_log.histogram_weights' instead\n",
      "COMET INFO: Experiment is live on comet.ml https://www.comet.ml/apricot/tweet-disaster/f992102f3fbb45cd82632deba315f5c8\n",
      "\n",
      "COMET INFO: Still uploading\n"
     ]
    },
    {
     "name": "stdout",
     "output_type": "stream",
     "text": [
      "naive\n",
      "216.6498670578003\n"
     ]
    },
    {
     "name": "stderr",
     "output_type": "stream",
     "text": [
      "COMET WARNING: Config key 'comet.auto_log.weights' is deprecated, please use 'comet.auto_log.histogram_weights' instead\n",
      "COMET INFO: Experiment is live on comet.ml https://www.comet.ml/apricot/tweet-disaster/e5651ae5ff0c4054a0774fa35f0637f8\n",
      "\n",
      "COMET INFO: Still uploading\n"
     ]
    },
    {
     "name": "stdout",
     "output_type": "stream",
     "text": [
      "lazy\n",
      "166.38418769836426\n"
     ]
    },
    {
     "name": "stderr",
     "output_type": "stream",
     "text": [
      "COMET WARNING: Config key 'comet.auto_log.weights' is deprecated, please use 'comet.auto_log.histogram_weights' instead\n",
      "COMET INFO: Experiment is live on comet.ml https://www.comet.ml/apricot/tweet-disaster/07e078f10ac7496b8cb551e08c19fb53\n",
      "\n",
      "COMET INFO: Still uploading\n"
     ]
    },
    {
     "name": "stdout",
     "output_type": "stream",
     "text": [
      "two-stage\n",
      "238.60188698768616\n"
     ]
    },
    {
     "name": "stderr",
     "output_type": "stream",
     "text": [
      "COMET WARNING: Config key 'comet.auto_log.weights' is deprecated, please use 'comet.auto_log.histogram_weights' instead\n",
      "COMET INFO: Experiment is live on comet.ml https://www.comet.ml/apricot/tweet-disaster/c594ed08e0f542bcab8eca10648a80be\n",
      "\n",
      "COMET INFO: Still uploading\n"
     ]
    },
    {
     "name": "stdout",
     "output_type": "stream",
     "text": [
      "naive\n",
      "783.258768081665\n"
     ]
    },
    {
     "name": "stderr",
     "output_type": "stream",
     "text": [
      "COMET WARNING: Config key 'comet.auto_log.weights' is deprecated, please use 'comet.auto_log.histogram_weights' instead\n",
      "COMET INFO: Experiment is live on comet.ml https://www.comet.ml/apricot/tweet-disaster/9965c5889416435fa8ee066866224e32\n",
      "\n",
      "COMET INFO: Still uploading\n"
     ]
    },
    {
     "name": "stdout",
     "output_type": "stream",
     "text": [
      "lazy\n",
      "670.4934828281403\n"
     ]
    },
    {
     "name": "stderr",
     "output_type": "stream",
     "text": [
      "COMET WARNING: Config key 'comet.auto_log.weights' is deprecated, please use 'comet.auto_log.histogram_weights' instead\n",
      "COMET INFO: Experiment is live on comet.ml https://www.comet.ml/apricot/tweet-disaster/2e5a2e6702cd4f90a06e9f191dd043a5\n",
      "\n",
      "COMET INFO: Still uploading\n"
     ]
    },
    {
     "name": "stdout",
     "output_type": "stream",
     "text": [
      "two-stage\n",
      "827.2879586219788\n"
     ]
    },
    {
     "name": "stderr",
     "output_type": "stream",
     "text": [
      "COMET WARNING: Config key 'comet.auto_log.weights' is deprecated, please use 'comet.auto_log.histogram_weights' instead\n",
      "COMET INFO: Experiment is live on comet.ml https://www.comet.ml/apricot/tweet-disaster/debed4e740c94f56b96bd082012793dc\n",
      "\n",
      "COMET INFO: Still uploading\n"
     ]
    },
    {
     "name": "stdout",
     "output_type": "stream",
     "text": [
      "naive\n",
      "1729.0269129276276\n"
     ]
    },
    {
     "name": "stderr",
     "output_type": "stream",
     "text": [
      "COMET WARNING: Config key 'comet.auto_log.weights' is deprecated, please use 'comet.auto_log.histogram_weights' instead\n",
      "COMET INFO: Experiment is live on comet.ml https://www.comet.ml/apricot/tweet-disaster/c52d0d959e4c49f99a1cb074ae9425c3\n",
      "\n",
      "COMET INFO: Still uploading\n"
     ]
    },
    {
     "name": "stdout",
     "output_type": "stream",
     "text": [
      "lazy\n",
      "1537.4941442012787\n"
     ]
    },
    {
     "name": "stderr",
     "output_type": "stream",
     "text": [
      "COMET WARNING: Config key 'comet.auto_log.weights' is deprecated, please use 'comet.auto_log.histogram_weights' instead\n",
      "COMET INFO: Experiment is live on comet.ml https://www.comet.ml/apricot/tweet-disaster/771b958e14644844b9ccf221a08f8d04\n",
      "\n",
      "COMET INFO: Still uploading\n"
     ]
    },
    {
     "name": "stdout",
     "output_type": "stream",
     "text": [
      "two-stage\n",
      "1780.882728099823\n"
     ]
    },
    {
     "name": "stderr",
     "output_type": "stream",
     "text": [
      "COMET WARNING: Config key 'comet.auto_log.weights' is deprecated, please use 'comet.auto_log.histogram_weights' instead\n",
      "COMET INFO: Experiment is live on comet.ml https://www.comet.ml/apricot/tweet-disaster/0bc3bacbb64e4e65a2cb43b6449e2d4b\n",
      "\n",
      "COMET INFO: Still uploading\n"
     ]
    },
    {
     "name": "stdout",
     "output_type": "stream",
     "text": [
      "naive\n",
      "1917.6446788311005\n"
     ]
    },
    {
     "name": "stderr",
     "output_type": "stream",
     "text": [
      "COMET WARNING: Config key 'comet.auto_log.weights' is deprecated, please use 'comet.auto_log.histogram_weights' instead\n",
      "COMET INFO: Experiment is live on comet.ml https://www.comet.ml/apricot/tweet-disaster/3886a1b437954bc9a3853deca88bde76\n",
      "\n",
      "COMET INFO: Still uploading\n"
     ]
    },
    {
     "name": "stdout",
     "output_type": "stream",
     "text": [
      "lazy\n",
      "1725.3056592941284\n"
     ]
    },
    {
     "name": "stderr",
     "output_type": "stream",
     "text": [
      "COMET WARNING: Config key 'comet.auto_log.weights' is deprecated, please use 'comet.auto_log.histogram_weights' instead\n",
      "COMET INFO: Experiment is live on comet.ml https://www.comet.ml/apricot/tweet-disaster/beb0703b21784a94ac173e2ab53e0472\n",
      "\n",
      "COMET INFO: Still uploading\n"
     ]
    },
    {
     "name": "stdout",
     "output_type": "stream",
     "text": [
      "two-stage\n",
      "2019.609894990921\n"
     ]
    },
    {
     "name": "stderr",
     "output_type": "stream",
     "text": [
      "COMET WARNING: Config key 'comet.auto_log.weights' is deprecated, please use 'comet.auto_log.histogram_weights' instead\n",
      "COMET INFO: Experiment is live on comet.ml https://www.comet.ml/apricot/tweet-disaster/e6c77477990b4a5ba65fef046ceb32f6\n",
      "\n",
      "COMET INFO: Still uploading\n"
     ]
    },
    {
     "name": "stdout",
     "output_type": "stream",
     "text": [
      "naive\n",
      "2465.3778603076935\n"
     ]
    },
    {
     "name": "stderr",
     "output_type": "stream",
     "text": [
      "COMET WARNING: Config key 'comet.auto_log.weights' is deprecated, please use 'comet.auto_log.histogram_weights' instead\n",
      "COMET INFO: Experiment is live on comet.ml https://www.comet.ml/apricot/tweet-disaster/b98ac3748889422587c16a8607e4da9a\n",
      "\n",
      "COMET INFO: Still uploading\n"
     ]
    },
    {
     "name": "stdout",
     "output_type": "stream",
     "text": [
      "lazy\n",
      "2196.1041157245636\n"
     ]
    },
    {
     "name": "stderr",
     "output_type": "stream",
     "text": [
      "COMET WARNING: Config key 'comet.auto_log.weights' is deprecated, please use 'comet.auto_log.histogram_weights' instead\n",
      "COMET INFO: Experiment is live on comet.ml https://www.comet.ml/apricot/tweet-disaster/7b6db85758e8479aa24cf4cc5917d1d4\n",
      "\n",
      "COMET INFO: Still uploading\n"
     ]
    },
    {
     "name": "stdout",
     "output_type": "stream",
     "text": [
      "two-stage\n",
      "2541.78133559227\n"
     ]
    }
   ],
   "source": [
    "#Feature-based(naive, lazy, two-stage running time)\n",
    "for i in [100, 500, 1000, 2500, 5000, 7500, 8000, 9000]:\n",
    "    for j in [\"naive\", \"lazy\", \"two-stage\"]:\n",
    "        experiment=init_experiment(api_key, 'tweet_disaster', 'apricot')\n",
    "        n = i    \n",
    "        start_time = time.time()\n",
    "        Xtr_t, Xte_t = featureb(features_t, features_test_t, i, \"sqrt\", j)\n",
    "        experiment.log_metric(\"running_time\", time.time()-start_time)\n",
    "        Xtr = Xtr_t.transpose()\n",
    "        Xte = Xte_t.transpose()\n",
    "        acc, pre, rec, roc = train_eval(model, Xtr, Y_train, Xte, Y_test, experiment)\n",
    "        print(j)\n",
    "        print(time.time()-start_time)\n",
    "        experiment.log_parameters({\n",
    "            'optimizer': j,\n",
    "            'size': i,\n",
    "            'function': 'featurebased'\n",
    "        })\n",
    "        experiment.end() "
   ]
  },
  {
   "cell_type": "code",
   "execution_count": null,
   "metadata": {},
   "outputs": [
    {
     "name": "stderr",
     "output_type": "stream",
     "text": [
      "COMET WARNING: Config key 'comet.auto_log.weights' is deprecated, please use 'comet.auto_log.histogram_weights' instead\n",
      "COMET INFO: Experiment is live on comet.ml https://www.comet.ml/apricot/tweet-disaster/0c5299ff6a8c43f39153d4a157453532\n",
      "\n",
      "COMET INFO: Still uploading\n"
     ]
    },
    {
     "name": "stdout",
     "output_type": "stream",
     "text": [
      "approximate-lazy\n",
      "6.62127161026001\n"
     ]
    },
    {
     "name": "stderr",
     "output_type": "stream",
     "text": [
      "COMET WARNING: Config key 'comet.auto_log.weights' is deprecated, please use 'comet.auto_log.histogram_weights' instead\n",
      "COMET INFO: Experiment is live on comet.ml https://www.comet.ml/apricot/tweet-disaster/f858edb6e4e7458ea1a8c13c7feb2529\n",
      "\n",
      "COMET INFO: Still uploading\n"
     ]
    },
    {
     "name": "stdout",
     "output_type": "stream",
     "text": [
      "stochastic\n",
      "8.08964228630066\n"
     ]
    },
    {
     "name": "stderr",
     "output_type": "stream",
     "text": [
      "COMET WARNING: Config key 'comet.auto_log.weights' is deprecated, please use 'comet.auto_log.histogram_weights' instead\n",
      "COMET INFO: Experiment is live on comet.ml https://www.comet.ml/apricot/tweet-disaster/8209bd5b3d7542e786c6654d7e742e79\n",
      "\n",
      "COMET INFO: Still uploading\n"
     ]
    },
    {
     "name": "stdout",
     "output_type": "stream",
     "text": [
      "sample\n",
      "6.667168378829956\n"
     ]
    },
    {
     "name": "stderr",
     "output_type": "stream",
     "text": [
      "COMET WARNING: Config key 'comet.auto_log.weights' is deprecated, please use 'comet.auto_log.histogram_weights' instead\n",
      "COMET INFO: Experiment is live on comet.ml https://www.comet.ml/apricot/tweet-disaster/6307924bc3064abb967688e20ede8c4b\n",
      "\n",
      "COMET INFO: Still uploading\n"
     ]
    },
    {
     "name": "stdout",
     "output_type": "stream",
     "text": [
      "approximate-lazy\n",
      "22.038702487945557\n"
     ]
    },
    {
     "name": "stderr",
     "output_type": "stream",
     "text": [
      "COMET WARNING: Config key 'comet.auto_log.weights' is deprecated, please use 'comet.auto_log.histogram_weights' instead\n",
      "COMET INFO: Experiment is live on comet.ml https://www.comet.ml/apricot/tweet-disaster/74a14820345e4353ac4c755f94576821\n",
      "\n",
      "COMET INFO: Still uploading\n"
     ]
    },
    {
     "name": "stdout",
     "output_type": "stream",
     "text": [
      "stochastic\n",
      "18.495970487594604\n"
     ]
    },
    {
     "name": "stderr",
     "output_type": "stream",
     "text": [
      "COMET WARNING: Config key 'comet.auto_log.weights' is deprecated, please use 'comet.auto_log.histogram_weights' instead\n",
      "COMET INFO: Experiment is live on comet.ml https://www.comet.ml/apricot/tweet-disaster/c1f78dd207e04f798c60204ff0a56545\n",
      "\n",
      "COMET INFO: Still uploading\n"
     ]
    },
    {
     "name": "stdout",
     "output_type": "stream",
     "text": [
      "sample\n",
      "23.85616946220398\n"
     ]
    },
    {
     "name": "stderr",
     "output_type": "stream",
     "text": [
      "COMET WARNING: Config key 'comet.auto_log.weights' is deprecated, please use 'comet.auto_log.histogram_weights' instead\n",
      "COMET INFO: Experiment is live on comet.ml https://www.comet.ml/apricot/tweet-disaster/ea84a0f7b67e48b2a43bd4ce8cf0faf8\n",
      "\n",
      "COMET INFO: Still uploading\n"
     ]
    },
    {
     "name": "stdout",
     "output_type": "stream",
     "text": [
      "approximate-lazy\n",
      "49.15369510650635\n"
     ]
    },
    {
     "name": "stderr",
     "output_type": "stream",
     "text": [
      "COMET WARNING: Config key 'comet.auto_log.weights' is deprecated, please use 'comet.auto_log.histogram_weights' instead\n",
      "COMET INFO: Experiment is live on comet.ml https://www.comet.ml/apricot/tweet-disaster/cfc15e5314484c8fbd97794f892bacbf\n",
      "\n",
      "COMET INFO: Still uploading\n"
     ]
    },
    {
     "name": "stdout",
     "output_type": "stream",
     "text": [
      "stochastic\n",
      "41.97713756561279\n"
     ]
    },
    {
     "name": "stderr",
     "output_type": "stream",
     "text": [
      "COMET WARNING: Config key 'comet.auto_log.weights' is deprecated, please use 'comet.auto_log.histogram_weights' instead\n",
      "COMET INFO: Experiment is live on comet.ml https://www.comet.ml/apricot/tweet-disaster/717a62b00e104f7f9f05fd4faeb11e5a\n",
      "\n",
      "COMET INFO: Still uploading\n"
     ]
    },
    {
     "name": "stdout",
     "output_type": "stream",
     "text": [
      "sample\n",
      "57.303250789642334\n"
     ]
    },
    {
     "name": "stderr",
     "output_type": "stream",
     "text": [
      "COMET WARNING: Config key 'comet.auto_log.weights' is deprecated, please use 'comet.auto_log.histogram_weights' instead\n",
      "COMET INFO: Experiment is live on comet.ml https://www.comet.ml/apricot/tweet-disaster/66a64c1b8659498784cdda827ec9b9c4\n",
      "\n",
      "COMET INFO: Still uploading\n"
     ]
    },
    {
     "name": "stdout",
     "output_type": "stream",
     "text": [
      "approximate-lazy\n",
      "232.5357527732849\n"
     ]
    },
    {
     "name": "stderr",
     "output_type": "stream",
     "text": [
      "COMET WARNING: Config key 'comet.auto_log.weights' is deprecated, please use 'comet.auto_log.histogram_weights' instead\n",
      "COMET INFO: Experiment is live on comet.ml https://www.comet.ml/apricot/tweet-disaster/34fff49c0dc249358772b7532c09e40c\n",
      "\n",
      "COMET INFO: Still uploading\n"
     ]
    },
    {
     "name": "stdout",
     "output_type": "stream",
     "text": [
      "stochastic\n",
      "212.11141324043274\n"
     ]
    },
    {
     "name": "stderr",
     "output_type": "stream",
     "text": [
      "COMET WARNING: Config key 'comet.auto_log.weights' is deprecated, please use 'comet.auto_log.histogram_weights' instead\n",
      "COMET INFO: Experiment is live on comet.ml https://www.comet.ml/apricot/tweet-disaster/d91465693afd48b0a7a727bd603fe904\n",
      "\n",
      "COMET INFO: Still uploading\n"
     ]
    },
    {
     "name": "stdout",
     "output_type": "stream",
     "text": [
      "sample\n",
      "233.47402572631836\n"
     ]
    },
    {
     "name": "stderr",
     "output_type": "stream",
     "text": [
      "COMET WARNING: Config key 'comet.auto_log.weights' is deprecated, please use 'comet.auto_log.histogram_weights' instead\n",
      "COMET INFO: Experiment is live on comet.ml https://www.comet.ml/apricot/tweet-disaster/45280e0c619d462cbe37b654c06ad3a1\n",
      "\n",
      "COMET INFO: Still uploading\n"
     ]
    },
    {
     "name": "stdout",
     "output_type": "stream",
     "text": [
      "approximate-lazy\n",
      "819.3130674362183\n"
     ]
    },
    {
     "name": "stderr",
     "output_type": "stream",
     "text": [
      "COMET WARNING: Config key 'comet.auto_log.weights' is deprecated, please use 'comet.auto_log.histogram_weights' instead\n",
      "COMET INFO: Experiment is live on comet.ml https://www.comet.ml/apricot/tweet-disaster/bf0ac0bee74e42abb5852b53a732f88c\n",
      "\n",
      "COMET INFO: Still uploading\n"
     ]
    },
    {
     "name": "stdout",
     "output_type": "stream",
     "text": [
      "stochastic\n",
      "779.4019298553467\n"
     ]
    },
    {
     "name": "stderr",
     "output_type": "stream",
     "text": [
      "COMET WARNING: Config key 'comet.auto_log.weights' is deprecated, please use 'comet.auto_log.histogram_weights' instead\n",
      "COMET INFO: Experiment is live on comet.ml https://www.comet.ml/apricot/tweet-disaster/fa93508af6f14a538401c8312494c59f\n",
      "\n",
      "COMET INFO: Still uploading\n"
     ]
    },
    {
     "name": "stdout",
     "output_type": "stream",
     "text": [
      "sample\n",
      "833.5406353473663\n"
     ]
    },
    {
     "name": "stderr",
     "output_type": "stream",
     "text": [
      "COMET WARNING: Config key 'comet.auto_log.weights' is deprecated, please use 'comet.auto_log.histogram_weights' instead\n",
      "COMET INFO: Experiment is live on comet.ml https://www.comet.ml/apricot/tweet-disaster/406971aeb31d4574aeb5f572e5bece73\n",
      "\n",
      "COMET INFO: Still uploading\n"
     ]
    },
    {
     "name": "stdout",
     "output_type": "stream",
     "text": [
      "approximate-lazy\n",
      "1754.3329780101776\n"
     ]
    },
    {
     "name": "stderr",
     "output_type": "stream",
     "text": [
      "COMET WARNING: Config key 'comet.auto_log.weights' is deprecated, please use 'comet.auto_log.histogram_weights' instead\n",
      "COMET INFO: Experiment is live on comet.ml https://www.comet.ml/apricot/tweet-disaster/454baecc07084e488d30cfb9c42abb8a\n",
      "\n",
      "COMET INFO: Still uploading\n"
     ]
    },
    {
     "name": "stdout",
     "output_type": "stream",
     "text": [
      "stochastic\n",
      "1704.5223467350006\n"
     ]
    },
    {
     "name": "stderr",
     "output_type": "stream",
     "text": [
      "COMET WARNING: Config key 'comet.auto_log.weights' is deprecated, please use 'comet.auto_log.histogram_weights' instead\n",
      "COMET INFO: Experiment is live on comet.ml https://www.comet.ml/apricot/tweet-disaster/c174894a662d40f9a2b8dc61a6c85bf5\n",
      "\n",
      "COMET INFO: Still uploading\n"
     ]
    },
    {
     "name": "stdout",
     "output_type": "stream",
     "text": [
      "sample\n",
      "1781.8982751369476\n"
     ]
    },
    {
     "name": "stderr",
     "output_type": "stream",
     "text": [
      "COMET WARNING: Config key 'comet.auto_log.weights' is deprecated, please use 'comet.auto_log.histogram_weights' instead\n",
      "COMET INFO: Experiment is live on comet.ml https://www.comet.ml/apricot/tweet-disaster/3a3372f0ffa946658f101c5c91baea43\n",
      "\n",
      "COMET INFO: Still uploading\n"
     ]
    },
    {
     "name": "stdout",
     "output_type": "stream",
     "text": [
      "approximate-lazy\n",
      "2016.9048430919647\n"
     ]
    },
    {
     "name": "stderr",
     "output_type": "stream",
     "text": [
      "COMET WARNING: Config key 'comet.auto_log.weights' is deprecated, please use 'comet.auto_log.histogram_weights' instead\n",
      "COMET INFO: Experiment is live on comet.ml https://www.comet.ml/apricot/tweet-disaster/15cbcc711a6641d4af0b54706d5f6f5e\n",
      "\n",
      "COMET INFO: Still uploading\n"
     ]
    },
    {
     "name": "stdout",
     "output_type": "stream",
     "text": [
      "stochastic\n",
      "1941.345813035965\n"
     ]
    },
    {
     "name": "stderr",
     "output_type": "stream",
     "text": [
      "COMET WARNING: Config key 'comet.auto_log.weights' is deprecated, please use 'comet.auto_log.histogram_weights' instead\n",
      "COMET INFO: Experiment is live on comet.ml https://www.comet.ml/apricot/tweet-disaster/53d5ff09e5f04caea767c1ad8b7ac2a8\n",
      "\n",
      "COMET INFO: Still uploading\n"
     ]
    },
    {
     "name": "stdout",
     "output_type": "stream",
     "text": [
      "sample\n",
      "2026.6739783287048\n"
     ]
    },
    {
     "name": "stderr",
     "output_type": "stream",
     "text": [
      "COMET WARNING: Config key 'comet.auto_log.weights' is deprecated, please use 'comet.auto_log.histogram_weights' instead\n",
      "COMET INFO: Experiment is live on comet.ml https://www.comet.ml/apricot/tweet-disaster/5350df9c676f4844ae817b1211786ba7\n",
      "\n",
      "COMET INFO: Still uploading\n"
     ]
    },
    {
     "name": "stdout",
     "output_type": "stream",
     "text": [
      "approximate-lazy\n",
      "2503.0214142799377\n"
     ]
    },
    {
     "name": "stderr",
     "output_type": "stream",
     "text": [
      "COMET WARNING: Config key 'comet.auto_log.weights' is deprecated, please use 'comet.auto_log.histogram_weights' instead\n",
      "COMET INFO: Experiment is live on comet.ml https://www.comet.ml/apricot/tweet-disaster/797db273b9b64810bdf54ef924dc05b4\n",
      "\n"
     ]
    }
   ],
   "source": [
    "#Feature-based(approximate-lazy, stochastic, sample)\n",
    "for i in [100, 500, 1000, 2500, 5000, 7500, 8000, 9000]:\n",
    "    for j in [\"approximate-lazy\", \"stochastic\", \"sample\"]:\n",
    "        experiment=init_experiment(api_key, 'tweet_disaster', 'apricot')\n",
    "        n = i    \n",
    "        start_time = time.time()\n",
    "        Xtr_t, Xte_t = featureb(features_t, features_test_t, i, \"sqrt\", j)\n",
    "        experiment.log_metric(\"running_time\", time.time()-start_time)\n",
    "        Xtr = Xtr_t.transpose()\n",
    "        Xte = Xte_t.transpose()\n",
    "        acc, pre, rec, roc = train_eval(model, Xtr, Y_train, Xte, Y_test, experiment)\n",
    "        print(j)\n",
    "        print(time.time()-start_time)\n",
    "        experiment.log_parameters({\n",
    "            'optimizer': j,\n",
    "            'size': i,\n",
    "            'function': 'featurebased'\n",
    "        })\n",
    "        experiment.end() "
   ]
  },
  {
   "cell_type": "code",
   "execution_count": null,
   "metadata": {},
   "outputs": [],
   "source": [
    "parameters = param('featurebased')\n",
    "search_alg = \"GRID\"\n",
    "algo = algo(search_alg, parameters)\n",
    "for i in [100, 500, 1000, 2500, 5000, 7500, 8000, 9000]:\n",
    "    experiment=init_experiment(api_key, 'tweet_disaster', 'apricot')\n",
    "    n = i    \n",
    "    def objective(trial):\n",
    "        config = suggest_config(parameters, trial)\n",
    "        roc=0.0\n",
    "        try:\n",
    "            start_time = time.time()\n",
    "            Xtr_t, Xte_t = featureb(features_t, features_test_t, i, config[\"function\"], config[\"optimizer\"])\n",
    "            experiment.log_metric(\"running_time\", time.time()-start_time)\n",
    "            Xtr = Xtr_t.transpose()\n",
    "            Xte = Xte_t.transpose()\n",
    "            acc, pre, rec, roc = train_eval(model, Xtr, Y_train, Xte, Y_test, experiment)\n",
    "        except Exception as err:\n",
    "            print(err)\n",
    "        finally:   \n",
    "            return roc\n",
    "    study = optuna.create_study(direction=\"maximize\", sampler=algo)\n",
    "    study.optimize(objective, n_trials=20, n_jobs=1)\n",
    "    best_param = study.best_params\n",
    "    print(best_param)\n",
    "    experiment.log_parameters({\n",
    "        'best param': best_param,\n",
    "        'size': i,\n",
    "        'function': 'featurebased'\n",
    "    })\n",
    "    experiment.end()"
   ]
  },
  {
   "cell_type": "code",
   "execution_count": 11,
   "metadata": {},
   "outputs": [
    {
     "name": "stderr",
     "output_type": "stream",
     "text": [
      "COMET WARNING: Config key 'comet.auto_log.weights' is deprecated, please use 'comet.auto_log.histogram_weights' instead\n",
      "COMET INFO: Experiment is live on comet.ml https://www.comet.ml/apricot/tweet-disaster/5f2b18ff6b38492d9bdd391200b7181d\n",
      "\n",
      "\u001b[32m[I 2021-11-15 21:01:44,753]\u001b[0m A new study created in memory with name: no-name-14257891-c2e9-4d6c-9b91-10d6c563efe5\u001b[0m\n",
      "\u001b[32m[I 2021-11-15 21:01:44,763]\u001b[0m Trial 0 finished with value: 0.0 and parameters: {'function': 'l1'}. Best is trial 0 with value: 0.0.\u001b[0m\n",
      "\u001b[32m[I 2021-11-15 21:01:44,769]\u001b[0m Trial 1 finished with value: 0.0 and parameters: {'function': 'l1'}. Best is trial 0 with value: 0.0.\u001b[0m\n",
      "\u001b[32m[I 2021-11-15 21:01:44,776]\u001b[0m Trial 2 finished with value: 0.0 and parameters: {'function': 'cosine'}. Best is trial 0 with value: 0.0.\u001b[0m\n",
      "\u001b[32m[I 2021-11-15 21:01:44,789]\u001b[0m Trial 3 finished with value: 0.0 and parameters: {'function': 'correlation'}. Best is trial 0 with value: 0.0.\u001b[0m\n",
      "\u001b[32m[I 2021-11-15 21:01:44,795]\u001b[0m Trial 4 finished with value: 0.0 and parameters: {'function': 'cityblock'}. Best is trial 0 with value: 0.0.\u001b[0m\n",
      "\u001b[32m[I 2021-11-15 21:01:44,800]\u001b[0m Trial 5 finished with value: 0.0 and parameters: {'function': 'correlation'}. Best is trial 0 with value: 0.0.\u001b[0m\n",
      "\u001b[32m[I 2021-11-15 21:01:44,806]\u001b[0m Trial 6 finished with value: 0.0 and parameters: {'function': 'correlation'}. Best is trial 0 with value: 0.0.\u001b[0m\n",
      "\u001b[32m[I 2021-11-15 21:01:44,810]\u001b[0m Trial 7 finished with value: 0.0 and parameters: {'function': 'l2'}. Best is trial 0 with value: 0.0.\u001b[0m\n",
      "\u001b[32m[I 2021-11-15 21:01:44,816]\u001b[0m Trial 8 finished with value: 0.0 and parameters: {'function': 'manhattan'}. Best is trial 0 with value: 0.0.\u001b[0m\n",
      "\u001b[32m[I 2021-11-15 21:01:44,821]\u001b[0m Trial 9 finished with value: 0.0 and parameters: {'function': 'euclidean'}. Best is trial 0 with value: 0.0.\u001b[0m\n",
      "\u001b[32m[I 2021-11-15 21:01:44,827]\u001b[0m Trial 10 finished with value: 0.0 and parameters: {'function': 'correlation'}. Best is trial 0 with value: 0.0.\u001b[0m\n",
      "\u001b[32m[I 2021-11-15 21:01:44,832]\u001b[0m Trial 11 finished with value: 0.0 and parameters: {'function': 'manhattan'}. Best is trial 0 with value: 0.0.\u001b[0m\n",
      "\u001b[32m[I 2021-11-15 21:01:44,840]\u001b[0m Trial 12 finished with value: 0.0 and parameters: {'function': 'l1'}. Best is trial 0 with value: 0.0.\u001b[0m\n",
      "\u001b[32m[I 2021-11-15 21:01:44,846]\u001b[0m Trial 13 finished with value: 0.0 and parameters: {'function': 'manhattan'}. Best is trial 0 with value: 0.0.\u001b[0m\n",
      "\u001b[32m[I 2021-11-15 21:01:44,852]\u001b[0m Trial 14 finished with value: 0.0 and parameters: {'function': 'cityblock'}. Best is trial 0 with value: 0.0.\u001b[0m\n",
      "\u001b[32m[I 2021-11-15 21:01:44,857]\u001b[0m Trial 15 finished with value: 0.0 and parameters: {'function': 'euclidean'}. Best is trial 0 with value: 0.0.\u001b[0m\n",
      "\u001b[32m[I 2021-11-15 21:01:44,861]\u001b[0m Trial 16 finished with value: 0.0 and parameters: {'function': 'cosine'}. Best is trial 0 with value: 0.0.\u001b[0m\n",
      "\u001b[32m[I 2021-11-15 21:01:44,865]\u001b[0m Trial 17 finished with value: 0.0 and parameters: {'function': 'cityblock'}. Best is trial 0 with value: 0.0.\u001b[0m\n",
      "\u001b[32m[I 2021-11-15 21:01:44,871]\u001b[0m Trial 18 finished with value: 0.0 and parameters: {'function': 'correlation'}. Best is trial 0 with value: 0.0.\u001b[0m\n",
      "\u001b[32m[I 2021-11-15 21:01:44,875]\u001b[0m Trial 19 finished with value: 0.0 and parameters: {'function': 'correlation'}. Best is trial 0 with value: 0.0.\u001b[0m\n"
     ]
    },
    {
     "name": "stdout",
     "output_type": "stream",
     "text": [
      "initial_subset must be a list, numpy array, or None\n",
      "initial_subset must be a list, numpy array, or None\n",
      "initial_subset must be a list, numpy array, or None\n",
      "initial_subset must be a list, numpy array, or None\n",
      "initial_subset must be a list, numpy array, or None\n",
      "initial_subset must be a list, numpy array, or None\n",
      "initial_subset must be a list, numpy array, or None\n",
      "initial_subset must be a list, numpy array, or None\n",
      "initial_subset must be a list, numpy array, or None\n",
      "initial_subset must be a list, numpy array, or None\n",
      "initial_subset must be a list, numpy array, or None\n",
      "initial_subset must be a list, numpy array, or None\n",
      "initial_subset must be a list, numpy array, or None\n",
      "initial_subset must be a list, numpy array, or None\n",
      "initial_subset must be a list, numpy array, or None\n",
      "initial_subset must be a list, numpy array, or None\n",
      "initial_subset must be a list, numpy array, or None\n",
      "initial_subset must be a list, numpy array, or None\n",
      "initial_subset must be a list, numpy array, or None\n",
      "initial_subset must be a list, numpy array, or None\n",
      "{'function': 'l1'}\n"
     ]
    },
    {
     "name": "stderr",
     "output_type": "stream",
     "text": [
      "COMET INFO: Still uploading\n",
      "COMET WARNING: Config key 'comet.auto_log.weights' is deprecated, please use 'comet.auto_log.histogram_weights' instead\n",
      "COMET INFO: Experiment is live on comet.ml https://www.comet.ml/apricot/tweet-disaster/ff9a57d8b0564a22a9f30be244e9bf24\n",
      "\n",
      "\u001b[32m[I 2021-11-15 21:01:47,912]\u001b[0m A new study created in memory with name: no-name-09debaf8-dd76-4027-902a-0dcbfee91f78\u001b[0m\n",
      "\u001b[32m[I 2021-11-15 21:01:47,918]\u001b[0m Trial 0 finished with value: 0.0 and parameters: {'function': 'correlation'}. Best is trial 0 with value: 0.0.\u001b[0m\n",
      "\u001b[32m[I 2021-11-15 21:01:47,923]\u001b[0m Trial 1 finished with value: 0.0 and parameters: {'function': 'l1'}. Best is trial 0 with value: 0.0.\u001b[0m\n",
      "\u001b[32m[I 2021-11-15 21:01:47,929]\u001b[0m Trial 2 finished with value: 0.0 and parameters: {'function': 'cityblock'}. Best is trial 0 with value: 0.0.\u001b[0m\n",
      "\u001b[32m[I 2021-11-15 21:01:47,935]\u001b[0m Trial 3 finished with value: 0.0 and parameters: {'function': 'l2'}. Best is trial 0 with value: 0.0.\u001b[0m\n",
      "\u001b[32m[I 2021-11-15 21:01:47,940]\u001b[0m Trial 4 finished with value: 0.0 and parameters: {'function': 'manhattan'}. Best is trial 0 with value: 0.0.\u001b[0m\n",
      "\u001b[32m[I 2021-11-15 21:01:47,948]\u001b[0m Trial 5 finished with value: 0.0 and parameters: {'function': 'cityblock'}. Best is trial 0 with value: 0.0.\u001b[0m\n",
      "\u001b[32m[I 2021-11-15 21:01:47,952]\u001b[0m Trial 6 finished with value: 0.0 and parameters: {'function': 'manhattan'}. Best is trial 0 with value: 0.0.\u001b[0m\n",
      "\u001b[32m[I 2021-11-15 21:01:47,959]\u001b[0m Trial 7 finished with value: 0.0 and parameters: {'function': 'manhattan'}. Best is trial 0 with value: 0.0.\u001b[0m\n",
      "\u001b[32m[I 2021-11-15 21:01:47,964]\u001b[0m Trial 8 finished with value: 0.0 and parameters: {'function': 'cityblock'}. Best is trial 0 with value: 0.0.\u001b[0m\n",
      "\u001b[32m[I 2021-11-15 21:01:47,967]\u001b[0m Trial 9 finished with value: 0.0 and parameters: {'function': 'l1'}. Best is trial 0 with value: 0.0.\u001b[0m\n",
      "\u001b[32m[I 2021-11-15 21:01:47,973]\u001b[0m Trial 10 finished with value: 0.0 and parameters: {'function': 'l1'}. Best is trial 0 with value: 0.0.\u001b[0m\n",
      "\u001b[32m[I 2021-11-15 21:01:47,992]\u001b[0m Trial 11 finished with value: 0.0 and parameters: {'function': 'euclidean'}. Best is trial 0 with value: 0.0.\u001b[0m\n",
      "\u001b[32m[I 2021-11-15 21:01:47,996]\u001b[0m Trial 12 finished with value: 0.0 and parameters: {'function': 'l1'}. Best is trial 0 with value: 0.0.\u001b[0m\n",
      "\u001b[32m[I 2021-11-15 21:01:48,001]\u001b[0m Trial 13 finished with value: 0.0 and parameters: {'function': 'l2'}. Best is trial 0 with value: 0.0.\u001b[0m\n",
      "\u001b[32m[I 2021-11-15 21:01:48,013]\u001b[0m Trial 14 finished with value: 0.0 and parameters: {'function': 'cityblock'}. Best is trial 0 with value: 0.0.\u001b[0m\n",
      "\u001b[32m[I 2021-11-15 21:01:48,025]\u001b[0m Trial 15 finished with value: 0.0 and parameters: {'function': 'manhattan'}. Best is trial 0 with value: 0.0.\u001b[0m\n",
      "\u001b[32m[I 2021-11-15 21:01:48,030]\u001b[0m Trial 16 finished with value: 0.0 and parameters: {'function': 'l2'}. Best is trial 0 with value: 0.0.\u001b[0m\n",
      "\u001b[32m[I 2021-11-15 21:01:48,038]\u001b[0m Trial 17 finished with value: 0.0 and parameters: {'function': 'l2'}. Best is trial 0 with value: 0.0.\u001b[0m\n",
      "\u001b[32m[I 2021-11-15 21:01:48,045]\u001b[0m Trial 18 finished with value: 0.0 and parameters: {'function': 'l1'}. Best is trial 0 with value: 0.0.\u001b[0m\n",
      "\u001b[32m[I 2021-11-15 21:01:48,052]\u001b[0m Trial 19 finished with value: 0.0 and parameters: {'function': 'correlation'}. Best is trial 0 with value: 0.0.\u001b[0m\n"
     ]
    },
    {
     "name": "stdout",
     "output_type": "stream",
     "text": [
      "initial_subset must be a list, numpy array, or None\n",
      "initial_subset must be a list, numpy array, or None\n",
      "initial_subset must be a list, numpy array, or None\n",
      "initial_subset must be a list, numpy array, or None\n",
      "initial_subset must be a list, numpy array, or None\n",
      "initial_subset must be a list, numpy array, or None\n",
      "initial_subset must be a list, numpy array, or None\n",
      "initial_subset must be a list, numpy array, or None\n",
      "initial_subset must be a list, numpy array, or None\n",
      "initial_subset must be a list, numpy array, or None\n",
      "initial_subset must be a list, numpy array, or None\n",
      "initial_subset must be a list, numpy array, or None\n",
      "initial_subset must be a list, numpy array, or None\n",
      "initial_subset must be a list, numpy array, or None\n",
      "initial_subset must be a list, numpy array, or None\n",
      "initial_subset must be a list, numpy array, or None\n",
      "initial_subset must be a list, numpy array, or None\n",
      "initial_subset must be a list, numpy array, or None\n",
      "initial_subset must be a list, numpy array, or None\n",
      "initial_subset must be a list, numpy array, or None\n",
      "{'function': 'correlation'}\n"
     ]
    },
    {
     "name": "stderr",
     "output_type": "stream",
     "text": [
      "COMET INFO: Still uploading\n",
      "COMET WARNING: Config key 'comet.auto_log.weights' is deprecated, please use 'comet.auto_log.histogram_weights' instead\n",
      "COMET INFO: Experiment is live on comet.ml https://www.comet.ml/apricot/tweet-disaster/84af3ee3c4af4576b5793046af2eb9d0\n",
      "\n",
      "\u001b[32m[I 2021-11-15 21:01:51,368]\u001b[0m A new study created in memory with name: no-name-a90e0dd9-ee8f-46f1-bc30-1c91efa66ba2\u001b[0m\n",
      "\u001b[32m[I 2021-11-15 21:01:51,375]\u001b[0m Trial 0 finished with value: 0.0 and parameters: {'function': 'l2'}. Best is trial 0 with value: 0.0.\u001b[0m\n",
      "\u001b[32m[I 2021-11-15 21:01:51,382]\u001b[0m Trial 1 finished with value: 0.0 and parameters: {'function': 'manhattan'}. Best is trial 0 with value: 0.0.\u001b[0m\n",
      "\u001b[32m[I 2021-11-15 21:01:51,385]\u001b[0m Trial 2 finished with value: 0.0 and parameters: {'function': 'cosine'}. Best is trial 0 with value: 0.0.\u001b[0m\n",
      "\u001b[32m[I 2021-11-15 21:01:51,391]\u001b[0m Trial 3 finished with value: 0.0 and parameters: {'function': 'l1'}. Best is trial 0 with value: 0.0.\u001b[0m\n",
      "\u001b[32m[I 2021-11-15 21:01:51,396]\u001b[0m Trial 4 finished with value: 0.0 and parameters: {'function': 'correlation'}. Best is trial 0 with value: 0.0.\u001b[0m\n",
      "\u001b[32m[I 2021-11-15 21:01:51,401]\u001b[0m Trial 5 finished with value: 0.0 and parameters: {'function': 'euclidean'}. Best is trial 0 with value: 0.0.\u001b[0m\n",
      "\u001b[32m[I 2021-11-15 21:01:51,412]\u001b[0m Trial 6 finished with value: 0.0 and parameters: {'function': 'cosine'}. Best is trial 0 with value: 0.0.\u001b[0m\n",
      "\u001b[32m[I 2021-11-15 21:01:51,416]\u001b[0m Trial 7 finished with value: 0.0 and parameters: {'function': 'manhattan'}. Best is trial 0 with value: 0.0.\u001b[0m\n",
      "\u001b[32m[I 2021-11-15 21:01:51,424]\u001b[0m Trial 8 finished with value: 0.0 and parameters: {'function': 'l2'}. Best is trial 0 with value: 0.0.\u001b[0m\n",
      "\u001b[32m[I 2021-11-15 21:01:51,438]\u001b[0m Trial 9 finished with value: 0.0 and parameters: {'function': 'euclidean'}. Best is trial 0 with value: 0.0.\u001b[0m\n",
      "\u001b[32m[I 2021-11-15 21:01:51,443]\u001b[0m Trial 10 finished with value: 0.0 and parameters: {'function': 'correlation'}. Best is trial 0 with value: 0.0.\u001b[0m\n",
      "\u001b[32m[I 2021-11-15 21:01:51,449]\u001b[0m Trial 11 finished with value: 0.0 and parameters: {'function': 'manhattan'}. Best is trial 0 with value: 0.0.\u001b[0m\n",
      "\u001b[32m[I 2021-11-15 21:01:51,459]\u001b[0m Trial 12 finished with value: 0.0 and parameters: {'function': 'cosine'}. Best is trial 0 with value: 0.0.\u001b[0m\n",
      "\u001b[32m[I 2021-11-15 21:01:51,463]\u001b[0m Trial 13 finished with value: 0.0 and parameters: {'function': 'l1'}. Best is trial 0 with value: 0.0.\u001b[0m\n",
      "\u001b[32m[I 2021-11-15 21:01:51,469]\u001b[0m Trial 14 finished with value: 0.0 and parameters: {'function': 'correlation'}. Best is trial 0 with value: 0.0.\u001b[0m\n",
      "\u001b[32m[I 2021-11-15 21:01:51,473]\u001b[0m Trial 15 finished with value: 0.0 and parameters: {'function': 'euclidean'}. Best is trial 0 with value: 0.0.\u001b[0m\n",
      "\u001b[32m[I 2021-11-15 21:01:51,479]\u001b[0m Trial 16 finished with value: 0.0 and parameters: {'function': 'manhattan'}. Best is trial 0 with value: 0.0.\u001b[0m\n",
      "\u001b[32m[I 2021-11-15 21:01:51,485]\u001b[0m Trial 17 finished with value: 0.0 and parameters: {'function': 'correlation'}. Best is trial 0 with value: 0.0.\u001b[0m\n",
      "\u001b[32m[I 2021-11-15 21:01:51,488]\u001b[0m Trial 18 finished with value: 0.0 and parameters: {'function': 'l2'}. Best is trial 0 with value: 0.0.\u001b[0m\n",
      "\u001b[32m[I 2021-11-15 21:01:51,497]\u001b[0m Trial 19 finished with value: 0.0 and parameters: {'function': 'cityblock'}. Best is trial 0 with value: 0.0.\u001b[0m\n"
     ]
    },
    {
     "name": "stdout",
     "output_type": "stream",
     "text": [
      "initial_subset must be a list, numpy array, or None\n",
      "initial_subset must be a list, numpy array, or None\n",
      "initial_subset must be a list, numpy array, or None\n",
      "initial_subset must be a list, numpy array, or None\n",
      "initial_subset must be a list, numpy array, or None\n",
      "initial_subset must be a list, numpy array, or None\n",
      "initial_subset must be a list, numpy array, or None\n",
      "initial_subset must be a list, numpy array, or None\n",
      "initial_subset must be a list, numpy array, or None\n",
      "initial_subset must be a list, numpy array, or None\n",
      "initial_subset must be a list, numpy array, or None\n",
      "initial_subset must be a list, numpy array, or None\n",
      "initial_subset must be a list, numpy array, or None\n",
      "initial_subset must be a list, numpy array, or None\n",
      "initial_subset must be a list, numpy array, or None\n",
      "initial_subset must be a list, numpy array, or None\n",
      "initial_subset must be a list, numpy array, or None\n",
      "initial_subset must be a list, numpy array, or None\n",
      "initial_subset must be a list, numpy array, or None\n",
      "initial_subset must be a list, numpy array, or None\n",
      "{'function': 'l2'}\n"
     ]
    },
    {
     "name": "stderr",
     "output_type": "stream",
     "text": [
      "COMET INFO: Still uploading\n",
      "COMET WARNING: Config key 'comet.auto_log.weights' is deprecated, please use 'comet.auto_log.histogram_weights' instead\n",
      "COMET INFO: Experiment is live on comet.ml https://www.comet.ml/apricot/tweet-disaster/0ff3bb063e494ff398f974afa16a5736\n",
      "\n",
      "\u001b[32m[I 2021-11-15 21:01:57,305]\u001b[0m A new study created in memory with name: no-name-34a8a321-0c91-46d3-b41f-2fe331e0cd7f\u001b[0m\n",
      "\u001b[32m[I 2021-11-15 21:01:57,314]\u001b[0m Trial 0 finished with value: 0.0 and parameters: {'function': 'manhattan'}. Best is trial 0 with value: 0.0.\u001b[0m\n",
      "\u001b[32m[I 2021-11-15 21:01:57,320]\u001b[0m Trial 1 finished with value: 0.0 and parameters: {'function': 'l1'}. Best is trial 0 with value: 0.0.\u001b[0m\n",
      "\u001b[32m[I 2021-11-15 21:01:57,324]\u001b[0m Trial 2 finished with value: 0.0 and parameters: {'function': 'correlation'}. Best is trial 0 with value: 0.0.\u001b[0m\n",
      "\u001b[32m[I 2021-11-15 21:01:57,329]\u001b[0m Trial 3 finished with value: 0.0 and parameters: {'function': 'euclidean'}. Best is trial 0 with value: 0.0.\u001b[0m\n",
      "\u001b[32m[I 2021-11-15 21:01:57,333]\u001b[0m Trial 4 finished with value: 0.0 and parameters: {'function': 'l2'}. Best is trial 0 with value: 0.0.\u001b[0m\n",
      "\u001b[32m[I 2021-11-15 21:01:57,340]\u001b[0m Trial 5 finished with value: 0.0 and parameters: {'function': 'correlation'}. Best is trial 0 with value: 0.0.\u001b[0m\n",
      "\u001b[32m[I 2021-11-15 21:01:57,345]\u001b[0m Trial 6 finished with value: 0.0 and parameters: {'function': 'l1'}. Best is trial 0 with value: 0.0.\u001b[0m\n",
      "\u001b[32m[I 2021-11-15 21:01:57,351]\u001b[0m Trial 7 finished with value: 0.0 and parameters: {'function': 'l1'}. Best is trial 0 with value: 0.0.\u001b[0m\n",
      "\u001b[32m[I 2021-11-15 21:01:57,355]\u001b[0m Trial 8 finished with value: 0.0 and parameters: {'function': 'cosine'}. Best is trial 0 with value: 0.0.\u001b[0m\n",
      "\u001b[32m[I 2021-11-15 21:01:57,360]\u001b[0m Trial 9 finished with value: 0.0 and parameters: {'function': 'correlation'}. Best is trial 0 with value: 0.0.\u001b[0m\n",
      "\u001b[32m[I 2021-11-15 21:01:57,367]\u001b[0m Trial 10 finished with value: 0.0 and parameters: {'function': 'cosine'}. Best is trial 0 with value: 0.0.\u001b[0m\n",
      "\u001b[32m[I 2021-11-15 21:01:57,371]\u001b[0m Trial 11 finished with value: 0.0 and parameters: {'function': 'l1'}. Best is trial 0 with value: 0.0.\u001b[0m\n",
      "\u001b[32m[I 2021-11-15 21:01:57,376]\u001b[0m Trial 12 finished with value: 0.0 and parameters: {'function': 'cityblock'}. Best is trial 0 with value: 0.0.\u001b[0m\n",
      "\u001b[32m[I 2021-11-15 21:01:57,379]\u001b[0m Trial 13 finished with value: 0.0 and parameters: {'function': 'euclidean'}. Best is trial 0 with value: 0.0.\u001b[0m\n",
      "\u001b[32m[I 2021-11-15 21:01:57,385]\u001b[0m Trial 14 finished with value: 0.0 and parameters: {'function': 'l1'}. Best is trial 0 with value: 0.0.\u001b[0m\n",
      "\u001b[32m[I 2021-11-15 21:01:57,390]\u001b[0m Trial 15 finished with value: 0.0 and parameters: {'function': 'manhattan'}. Best is trial 0 with value: 0.0.\u001b[0m\n",
      "\u001b[32m[I 2021-11-15 21:01:57,395]\u001b[0m Trial 16 finished with value: 0.0 and parameters: {'function': 'euclidean'}. Best is trial 0 with value: 0.0.\u001b[0m\n",
      "\u001b[32m[I 2021-11-15 21:01:57,402]\u001b[0m Trial 17 finished with value: 0.0 and parameters: {'function': 'l2'}. Best is trial 0 with value: 0.0.\u001b[0m\n",
      "\u001b[32m[I 2021-11-15 21:01:57,406]\u001b[0m Trial 18 finished with value: 0.0 and parameters: {'function': 'cosine'}. Best is trial 0 with value: 0.0.\u001b[0m\n",
      "\u001b[32m[I 2021-11-15 21:01:57,410]\u001b[0m Trial 19 finished with value: 0.0 and parameters: {'function': 'l1'}. Best is trial 0 with value: 0.0.\u001b[0m\n"
     ]
    },
    {
     "name": "stdout",
     "output_type": "stream",
     "text": [
      "initial_subset must be a list, numpy array, or None\n",
      "initial_subset must be a list, numpy array, or None\n",
      "initial_subset must be a list, numpy array, or None\n",
      "initial_subset must be a list, numpy array, or None\n",
      "initial_subset must be a list, numpy array, or None\n",
      "initial_subset must be a list, numpy array, or None\n",
      "initial_subset must be a list, numpy array, or None\n",
      "initial_subset must be a list, numpy array, or None\n",
      "initial_subset must be a list, numpy array, or None\n",
      "initial_subset must be a list, numpy array, or None\n",
      "initial_subset must be a list, numpy array, or None\n",
      "initial_subset must be a list, numpy array, or None\n",
      "initial_subset must be a list, numpy array, or None\n",
      "initial_subset must be a list, numpy array, or None\n",
      "initial_subset must be a list, numpy array, or None\n",
      "initial_subset must be a list, numpy array, or None\n",
      "initial_subset must be a list, numpy array, or None\n",
      "initial_subset must be a list, numpy array, or None\n",
      "initial_subset must be a list, numpy array, or None\n",
      "initial_subset must be a list, numpy array, or None\n",
      "{'function': 'manhattan'}\n"
     ]
    },
    {
     "name": "stderr",
     "output_type": "stream",
     "text": [
      "COMET INFO: Still uploading\n",
      "COMET WARNING: Config key 'comet.auto_log.weights' is deprecated, please use 'comet.auto_log.histogram_weights' instead\n",
      "COMET INFO: Experiment is live on comet.ml https://www.comet.ml/apricot/tweet-disaster/5639ad1b0b1c4f6493f78ee9f80e760e\n",
      "\n",
      "\u001b[32m[I 2021-11-15 21:02:04,995]\u001b[0m A new study created in memory with name: no-name-9360efdb-715e-400d-af40-079b3b32d75c\u001b[0m\n",
      "\u001b[32m[I 2021-11-15 21:02:05,003]\u001b[0m Trial 0 finished with value: 0.0 and parameters: {'function': 'correlation'}. Best is trial 0 with value: 0.0.\u001b[0m\n",
      "\u001b[32m[I 2021-11-15 21:02:05,008]\u001b[0m Trial 1 finished with value: 0.0 and parameters: {'function': 'l1'}. Best is trial 0 with value: 0.0.\u001b[0m\n",
      "\u001b[32m[I 2021-11-15 21:02:05,013]\u001b[0m Trial 2 finished with value: 0.0 and parameters: {'function': 'l1'}. Best is trial 0 with value: 0.0.\u001b[0m\n",
      "\u001b[32m[I 2021-11-15 21:02:05,024]\u001b[0m Trial 3 finished with value: 0.0 and parameters: {'function': 'euclidean'}. Best is trial 0 with value: 0.0.\u001b[0m\n",
      "\u001b[32m[I 2021-11-15 21:02:05,037]\u001b[0m Trial 4 finished with value: 0.0 and parameters: {'function': 'manhattan'}. Best is trial 0 with value: 0.0.\u001b[0m\n",
      "\u001b[32m[I 2021-11-15 21:02:05,042]\u001b[0m Trial 5 finished with value: 0.0 and parameters: {'function': 'manhattan'}. Best is trial 0 with value: 0.0.\u001b[0m\n",
      "\u001b[32m[I 2021-11-15 21:02:05,048]\u001b[0m Trial 6 finished with value: 0.0 and parameters: {'function': 'manhattan'}. Best is trial 0 with value: 0.0.\u001b[0m\n",
      "\u001b[32m[I 2021-11-15 21:02:05,051]\u001b[0m Trial 7 finished with value: 0.0 and parameters: {'function': 'cityblock'}. Best is trial 0 with value: 0.0.\u001b[0m\n",
      "\u001b[32m[I 2021-11-15 21:02:05,056]\u001b[0m Trial 8 finished with value: 0.0 and parameters: {'function': 'l2'}. Best is trial 0 with value: 0.0.\u001b[0m\n",
      "\u001b[32m[I 2021-11-15 21:02:05,063]\u001b[0m Trial 9 finished with value: 0.0 and parameters: {'function': 'l2'}. Best is trial 0 with value: 0.0.\u001b[0m\n",
      "\u001b[32m[I 2021-11-15 21:02:05,068]\u001b[0m Trial 10 finished with value: 0.0 and parameters: {'function': 'l2'}. Best is trial 0 with value: 0.0.\u001b[0m\n",
      "\u001b[32m[I 2021-11-15 21:02:05,072]\u001b[0m Trial 11 finished with value: 0.0 and parameters: {'function': 'manhattan'}. Best is trial 0 with value: 0.0.\u001b[0m\n",
      "\u001b[32m[I 2021-11-15 21:02:05,076]\u001b[0m Trial 12 finished with value: 0.0 and parameters: {'function': 'cosine'}. Best is trial 0 with value: 0.0.\u001b[0m\n",
      "\u001b[32m[I 2021-11-15 21:02:05,082]\u001b[0m Trial 13 finished with value: 0.0 and parameters: {'function': 'euclidean'}. Best is trial 0 with value: 0.0.\u001b[0m\n",
      "\u001b[32m[I 2021-11-15 21:02:05,086]\u001b[0m Trial 14 finished with value: 0.0 and parameters: {'function': 'cosine'}. Best is trial 0 with value: 0.0.\u001b[0m\n",
      "\u001b[32m[I 2021-11-15 21:02:05,092]\u001b[0m Trial 15 finished with value: 0.0 and parameters: {'function': 'cityblock'}. Best is trial 0 with value: 0.0.\u001b[0m\n",
      "\u001b[32m[I 2021-11-15 21:02:05,097]\u001b[0m Trial 16 finished with value: 0.0 and parameters: {'function': 'euclidean'}. Best is trial 0 with value: 0.0.\u001b[0m\n",
      "\u001b[32m[I 2021-11-15 21:02:05,103]\u001b[0m Trial 17 finished with value: 0.0 and parameters: {'function': 'l1'}. Best is trial 0 with value: 0.0.\u001b[0m\n",
      "\u001b[32m[I 2021-11-15 21:02:05,107]\u001b[0m Trial 18 finished with value: 0.0 and parameters: {'function': 'l1'}. Best is trial 0 with value: 0.0.\u001b[0m\n",
      "\u001b[32m[I 2021-11-15 21:02:05,113]\u001b[0m Trial 19 finished with value: 0.0 and parameters: {'function': 'manhattan'}. Best is trial 0 with value: 0.0.\u001b[0m\n"
     ]
    },
    {
     "name": "stdout",
     "output_type": "stream",
     "text": [
      "initial_subset must be a list, numpy array, or None\n",
      "initial_subset must be a list, numpy array, or None\n",
      "initial_subset must be a list, numpy array, or None\n",
      "initial_subset must be a list, numpy array, or None\n",
      "initial_subset must be a list, numpy array, or None\n",
      "initial_subset must be a list, numpy array, or None\n",
      "initial_subset must be a list, numpy array, or None\n",
      "initial_subset must be a list, numpy array, or None\n",
      "initial_subset must be a list, numpy array, or None\n",
      "initial_subset must be a list, numpy array, or None\n",
      "initial_subset must be a list, numpy array, or None\n",
      "initial_subset must be a list, numpy array, or None\n",
      "initial_subset must be a list, numpy array, or None\n",
      "initial_subset must be a list, numpy array, or None\n",
      "initial_subset must be a list, numpy array, or None\n",
      "initial_subset must be a list, numpy array, or None\n",
      "initial_subset must be a list, numpy array, or None\n",
      "initial_subset must be a list, numpy array, or None\n",
      "initial_subset must be a list, numpy array, or None\n",
      "initial_subset must be a list, numpy array, or None\n",
      "{'function': 'correlation'}\n"
     ]
    },
    {
     "name": "stderr",
     "output_type": "stream",
     "text": [
      "COMET INFO: Still uploading\n",
      "COMET WARNING: Config key 'comet.auto_log.weights' is deprecated, please use 'comet.auto_log.histogram_weights' instead\n",
      "COMET INFO: Experiment is live on comet.ml https://www.comet.ml/apricot/tweet-disaster/ff3b431257d14acdaaa21b2a96e83d17\n",
      "\n",
      "\u001b[32m[I 2021-11-15 21:02:08,250]\u001b[0m A new study created in memory with name: no-name-7998b60a-23db-476d-afac-f7f8d1d4779d\u001b[0m\n",
      "\u001b[32m[I 2021-11-15 21:02:08,255]\u001b[0m Trial 0 finished with value: 0.0 and parameters: {'function': 'correlation'}. Best is trial 0 with value: 0.0.\u001b[0m\n",
      "\u001b[32m[I 2021-11-15 21:02:08,263]\u001b[0m Trial 1 finished with value: 0.0 and parameters: {'function': 'manhattan'}. Best is trial 0 with value: 0.0.\u001b[0m\n",
      "\u001b[32m[I 2021-11-15 21:02:08,271]\u001b[0m Trial 2 finished with value: 0.0 and parameters: {'function': 'cityblock'}. Best is trial 0 with value: 0.0.\u001b[0m\n",
      "\u001b[32m[I 2021-11-15 21:02:08,274]\u001b[0m Trial 3 finished with value: 0.0 and parameters: {'function': 'cosine'}. Best is trial 0 with value: 0.0.\u001b[0m\n",
      "\u001b[32m[I 2021-11-15 21:02:08,281]\u001b[0m Trial 4 finished with value: 0.0 and parameters: {'function': 'cosine'}. Best is trial 0 with value: 0.0.\u001b[0m\n",
      "\u001b[32m[I 2021-11-15 21:02:08,287]\u001b[0m Trial 5 finished with value: 0.0 and parameters: {'function': 'l2'}. Best is trial 0 with value: 0.0.\u001b[0m\n",
      "\u001b[32m[I 2021-11-15 21:02:08,292]\u001b[0m Trial 6 finished with value: 0.0 and parameters: {'function': 'cosine'}. Best is trial 0 with value: 0.0.\u001b[0m\n",
      "\u001b[32m[I 2021-11-15 21:02:08,297]\u001b[0m Trial 7 finished with value: 0.0 and parameters: {'function': 'euclidean'}. Best is trial 0 with value: 0.0.\u001b[0m\n",
      "\u001b[32m[I 2021-11-15 21:02:08,307]\u001b[0m Trial 8 finished with value: 0.0 and parameters: {'function': 'manhattan'}. Best is trial 0 with value: 0.0.\u001b[0m\n",
      "\u001b[32m[I 2021-11-15 21:02:08,310]\u001b[0m Trial 9 finished with value: 0.0 and parameters: {'function': 'l1'}. Best is trial 0 with value: 0.0.\u001b[0m\n",
      "\u001b[32m[I 2021-11-15 21:02:08,313]\u001b[0m Trial 10 finished with value: 0.0 and parameters: {'function': 'l2'}. Best is trial 0 with value: 0.0.\u001b[0m\n",
      "\u001b[32m[I 2021-11-15 21:02:08,331]\u001b[0m Trial 11 finished with value: 0.0 and parameters: {'function': 'euclidean'}. Best is trial 0 with value: 0.0.\u001b[0m\n",
      "\u001b[32m[I 2021-11-15 21:02:08,334]\u001b[0m Trial 12 finished with value: 0.0 and parameters: {'function': 'cityblock'}. Best is trial 0 with value: 0.0.\u001b[0m\n",
      "\u001b[32m[I 2021-11-15 21:02:08,339]\u001b[0m Trial 13 finished with value: 0.0 and parameters: {'function': 'euclidean'}. Best is trial 0 with value: 0.0.\u001b[0m\n",
      "\u001b[32m[I 2021-11-15 21:02:08,343]\u001b[0m Trial 14 finished with value: 0.0 and parameters: {'function': 'manhattan'}. Best is trial 0 with value: 0.0.\u001b[0m\n",
      "\u001b[32m[I 2021-11-15 21:02:08,350]\u001b[0m Trial 15 finished with value: 0.0 and parameters: {'function': 'l2'}. Best is trial 0 with value: 0.0.\u001b[0m\n",
      "\u001b[32m[I 2021-11-15 21:02:08,365]\u001b[0m Trial 16 finished with value: 0.0 and parameters: {'function': 'l1'}. Best is trial 0 with value: 0.0.\u001b[0m\n",
      "\u001b[32m[I 2021-11-15 21:02:08,375]\u001b[0m Trial 17 finished with value: 0.0 and parameters: {'function': 'manhattan'}. Best is trial 0 with value: 0.0.\u001b[0m\n",
      "\u001b[32m[I 2021-11-15 21:02:08,379]\u001b[0m Trial 18 finished with value: 0.0 and parameters: {'function': 'cosine'}. Best is trial 0 with value: 0.0.\u001b[0m\n",
      "\u001b[32m[I 2021-11-15 21:02:08,384]\u001b[0m Trial 19 finished with value: 0.0 and parameters: {'function': 'cosine'}. Best is trial 0 with value: 0.0.\u001b[0m\n"
     ]
    },
    {
     "name": "stdout",
     "output_type": "stream",
     "text": [
      "initial_subset must be a list, numpy array, or None\n",
      "initial_subset must be a list, numpy array, or None\n",
      "initial_subset must be a list, numpy array, or None\n",
      "initial_subset must be a list, numpy array, or None\n",
      "initial_subset must be a list, numpy array, or None\n",
      "initial_subset must be a list, numpy array, or None\n",
      "initial_subset must be a list, numpy array, or None\n",
      "initial_subset must be a list, numpy array, or None\n",
      "initial_subset must be a list, numpy array, or None\n",
      "initial_subset must be a list, numpy array, or None\n",
      "initial_subset must be a list, numpy array, or None\n",
      "initial_subset must be a list, numpy array, or None\n",
      "initial_subset must be a list, numpy array, or None\n",
      "initial_subset must be a list, numpy array, or None\n",
      "initial_subset must be a list, numpy array, or None\n",
      "initial_subset must be a list, numpy array, or None\n",
      "initial_subset must be a list, numpy array, or None\n",
      "initial_subset must be a list, numpy array, or None\n",
      "initial_subset must be a list, numpy array, or None\n",
      "initial_subset must be a list, numpy array, or None\n",
      "{'function': 'correlation'}\n"
     ]
    },
    {
     "name": "stderr",
     "output_type": "stream",
     "text": [
      "COMET INFO: Still uploading\n",
      "COMET WARNING: Config key 'comet.auto_log.weights' is deprecated, please use 'comet.auto_log.histogram_weights' instead\n",
      "COMET INFO: Experiment is live on comet.ml https://www.comet.ml/apricot/tweet-disaster/8727ba49c5074af2b65cca7430518963\n",
      "\n",
      "\u001b[32m[I 2021-11-15 21:02:16,196]\u001b[0m A new study created in memory with name: no-name-2034b1b1-a083-4e3c-9f47-0872c34111f5\u001b[0m\n",
      "\u001b[32m[I 2021-11-15 21:02:16,204]\u001b[0m Trial 0 finished with value: 0.0 and parameters: {'function': 'manhattan'}. Best is trial 0 with value: 0.0.\u001b[0m\n",
      "\u001b[32m[I 2021-11-15 21:02:16,211]\u001b[0m Trial 1 finished with value: 0.0 and parameters: {'function': 'l2'}. Best is trial 0 with value: 0.0.\u001b[0m\n",
      "\u001b[32m[I 2021-11-15 21:02:16,217]\u001b[0m Trial 2 finished with value: 0.0 and parameters: {'function': 'correlation'}. Best is trial 0 with value: 0.0.\u001b[0m\n",
      "\u001b[32m[I 2021-11-15 21:02:16,224]\u001b[0m Trial 3 finished with value: 0.0 and parameters: {'function': 'euclidean'}. Best is trial 0 with value: 0.0.\u001b[0m\n",
      "\u001b[32m[I 2021-11-15 21:02:16,228]\u001b[0m Trial 4 finished with value: 0.0 and parameters: {'function': 'manhattan'}. Best is trial 0 with value: 0.0.\u001b[0m\n",
      "\u001b[32m[I 2021-11-15 21:02:16,235]\u001b[0m Trial 5 finished with value: 0.0 and parameters: {'function': 'l1'}. Best is trial 0 with value: 0.0.\u001b[0m\n",
      "\u001b[32m[I 2021-11-15 21:02:16,239]\u001b[0m Trial 6 finished with value: 0.0 and parameters: {'function': 'manhattan'}. Best is trial 0 with value: 0.0.\u001b[0m\n",
      "\u001b[32m[I 2021-11-15 21:02:16,253]\u001b[0m Trial 7 finished with value: 0.0 and parameters: {'function': 'correlation'}. Best is trial 0 with value: 0.0.\u001b[0m\n",
      "\u001b[32m[I 2021-11-15 21:02:16,259]\u001b[0m Trial 8 finished with value: 0.0 and parameters: {'function': 'cityblock'}. Best is trial 0 with value: 0.0.\u001b[0m\n",
      "\u001b[32m[I 2021-11-15 21:02:16,263]\u001b[0m Trial 9 finished with value: 0.0 and parameters: {'function': 'l2'}. Best is trial 0 with value: 0.0.\u001b[0m\n",
      "\u001b[32m[I 2021-11-15 21:02:16,268]\u001b[0m Trial 10 finished with value: 0.0 and parameters: {'function': 'cityblock'}. Best is trial 0 with value: 0.0.\u001b[0m\n",
      "\u001b[32m[I 2021-11-15 21:02:16,272]\u001b[0m Trial 11 finished with value: 0.0 and parameters: {'function': 'euclidean'}. Best is trial 0 with value: 0.0.\u001b[0m\n",
      "\u001b[32m[I 2021-11-15 21:02:16,280]\u001b[0m Trial 12 finished with value: 0.0 and parameters: {'function': 'correlation'}. Best is trial 0 with value: 0.0.\u001b[0m\n",
      "\u001b[32m[I 2021-11-15 21:02:16,292]\u001b[0m Trial 13 finished with value: 0.0 and parameters: {'function': 'cosine'}. Best is trial 0 with value: 0.0.\u001b[0m\n",
      "\u001b[32m[I 2021-11-15 21:02:16,301]\u001b[0m Trial 14 finished with value: 0.0 and parameters: {'function': 'l1'}. Best is trial 0 with value: 0.0.\u001b[0m\n",
      "\u001b[32m[I 2021-11-15 21:02:16,311]\u001b[0m Trial 15 finished with value: 0.0 and parameters: {'function': 'cityblock'}. Best is trial 0 with value: 0.0.\u001b[0m\n",
      "\u001b[32m[I 2021-11-15 21:02:16,317]\u001b[0m Trial 16 finished with value: 0.0 and parameters: {'function': 'cityblock'}. Best is trial 0 with value: 0.0.\u001b[0m\n",
      "\u001b[32m[I 2021-11-15 21:02:16,321]\u001b[0m Trial 17 finished with value: 0.0 and parameters: {'function': 'correlation'}. Best is trial 0 with value: 0.0.\u001b[0m\n",
      "\u001b[32m[I 2021-11-15 21:02:16,329]\u001b[0m Trial 18 finished with value: 0.0 and parameters: {'function': 'l2'}. Best is trial 0 with value: 0.0.\u001b[0m\n",
      "\u001b[32m[I 2021-11-15 21:02:16,333]\u001b[0m Trial 19 finished with value: 0.0 and parameters: {'function': 'manhattan'}. Best is trial 0 with value: 0.0.\u001b[0m\n"
     ]
    },
    {
     "name": "stdout",
     "output_type": "stream",
     "text": [
      "initial_subset must be a list, numpy array, or None\n",
      "initial_subset must be a list, numpy array, or None\n",
      "initial_subset must be a list, numpy array, or None\n",
      "initial_subset must be a list, numpy array, or None\n",
      "initial_subset must be a list, numpy array, or None\n",
      "initial_subset must be a list, numpy array, or None\n",
      "initial_subset must be a list, numpy array, or None\n",
      "initial_subset must be a list, numpy array, or None\n",
      "initial_subset must be a list, numpy array, or None\n",
      "initial_subset must be a list, numpy array, or None\n",
      "initial_subset must be a list, numpy array, or None\n",
      "initial_subset must be a list, numpy array, or None\n",
      "initial_subset must be a list, numpy array, or None\n",
      "initial_subset must be a list, numpy array, or None\n",
      "initial_subset must be a list, numpy array, or None\n",
      "initial_subset must be a list, numpy array, or None\n",
      "initial_subset must be a list, numpy array, or None\n",
      "initial_subset must be a list, numpy array, or None\n",
      "initial_subset must be a list, numpy array, or None\n",
      "initial_subset must be a list, numpy array, or None\n",
      "{'function': 'manhattan'}\n"
     ]
    },
    {
     "name": "stderr",
     "output_type": "stream",
     "text": [
      "COMET INFO: Still uploading\n",
      "COMET WARNING: Config key 'comet.auto_log.weights' is deprecated, please use 'comet.auto_log.histogram_weights' instead\n",
      "COMET INFO: Experiment is live on comet.ml https://www.comet.ml/apricot/tweet-disaster/ea49387bfc6b4be9935cfcb6c66df657\n",
      "\n",
      "\u001b[32m[I 2021-11-15 21:02:22,761]\u001b[0m A new study created in memory with name: no-name-426f35d3-0b13-416b-8b30-11aa9b25e471\u001b[0m\n",
      "\u001b[32m[I 2021-11-15 21:02:22,768]\u001b[0m Trial 0 finished with value: 0.0 and parameters: {'function': 'correlation'}. Best is trial 0 with value: 0.0.\u001b[0m\n",
      "\u001b[32m[I 2021-11-15 21:02:22,773]\u001b[0m Trial 1 finished with value: 0.0 and parameters: {'function': 'euclidean'}. Best is trial 0 with value: 0.0.\u001b[0m\n",
      "\u001b[32m[I 2021-11-15 21:02:22,777]\u001b[0m Trial 2 finished with value: 0.0 and parameters: {'function': 'l1'}. Best is trial 0 with value: 0.0.\u001b[0m\n",
      "\u001b[32m[I 2021-11-15 21:02:22,783]\u001b[0m Trial 3 finished with value: 0.0 and parameters: {'function': 'l2'}. Best is trial 0 with value: 0.0.\u001b[0m\n",
      "\u001b[32m[I 2021-11-15 21:02:22,787]\u001b[0m Trial 4 finished with value: 0.0 and parameters: {'function': 'correlation'}. Best is trial 0 with value: 0.0.\u001b[0m\n",
      "\u001b[32m[I 2021-11-15 21:02:22,795]\u001b[0m Trial 5 finished with value: 0.0 and parameters: {'function': 'correlation'}. Best is trial 0 with value: 0.0.\u001b[0m\n",
      "\u001b[32m[I 2021-11-15 21:02:22,799]\u001b[0m Trial 6 finished with value: 0.0 and parameters: {'function': 'cityblock'}. Best is trial 0 with value: 0.0.\u001b[0m\n",
      "\u001b[32m[I 2021-11-15 21:02:22,804]\u001b[0m Trial 7 finished with value: 0.0 and parameters: {'function': 'cityblock'}. Best is trial 0 with value: 0.0.\u001b[0m\n",
      "\u001b[32m[I 2021-11-15 21:02:22,807]\u001b[0m Trial 8 finished with value: 0.0 and parameters: {'function': 'cosine'}. Best is trial 0 with value: 0.0.\u001b[0m\n",
      "\u001b[32m[I 2021-11-15 21:02:22,813]\u001b[0m Trial 9 finished with value: 0.0 and parameters: {'function': 'correlation'}. Best is trial 0 with value: 0.0.\u001b[0m\n",
      "\u001b[32m[I 2021-11-15 21:02:22,829]\u001b[0m Trial 10 finished with value: 0.0 and parameters: {'function': 'l1'}. Best is trial 0 with value: 0.0.\u001b[0m\n",
      "\u001b[32m[I 2021-11-15 21:02:22,835]\u001b[0m Trial 11 finished with value: 0.0 and parameters: {'function': 'l1'}. Best is trial 0 with value: 0.0.\u001b[0m\n",
      "\u001b[32m[I 2021-11-15 21:02:22,840]\u001b[0m Trial 12 finished with value: 0.0 and parameters: {'function': 'cityblock'}. Best is trial 0 with value: 0.0.\u001b[0m\n",
      "\u001b[32m[I 2021-11-15 21:02:22,848]\u001b[0m Trial 13 finished with value: 0.0 and parameters: {'function': 'l1'}. Best is trial 0 with value: 0.0.\u001b[0m\n",
      "\u001b[32m[I 2021-11-15 21:02:22,852]\u001b[0m Trial 14 finished with value: 0.0 and parameters: {'function': 'l1'}. Best is trial 0 with value: 0.0.\u001b[0m\n",
      "\u001b[32m[I 2021-11-15 21:02:22,859]\u001b[0m Trial 15 finished with value: 0.0 and parameters: {'function': 'euclidean'}. Best is trial 0 with value: 0.0.\u001b[0m\n",
      "\u001b[32m[I 2021-11-15 21:02:22,863]\u001b[0m Trial 16 finished with value: 0.0 and parameters: {'function': 'cityblock'}. Best is trial 0 with value: 0.0.\u001b[0m\n",
      "\u001b[32m[I 2021-11-15 21:02:22,876]\u001b[0m Trial 17 finished with value: 0.0 and parameters: {'function': 'cityblock'}. Best is trial 0 with value: 0.0.\u001b[0m\n",
      "\u001b[32m[I 2021-11-15 21:02:22,880]\u001b[0m Trial 18 finished with value: 0.0 and parameters: {'function': 'manhattan'}. Best is trial 0 with value: 0.0.\u001b[0m\n",
      "\u001b[32m[I 2021-11-15 21:02:22,886]\u001b[0m Trial 19 finished with value: 0.0 and parameters: {'function': 'cosine'}. Best is trial 0 with value: 0.0.\u001b[0m\n"
     ]
    },
    {
     "name": "stdout",
     "output_type": "stream",
     "text": [
      "initial_subset must be a list, numpy array, or None\n",
      "initial_subset must be a list, numpy array, or None\n",
      "initial_subset must be a list, numpy array, or None\n",
      "initial_subset must be a list, numpy array, or None\n",
      "initial_subset must be a list, numpy array, or None\n",
      "initial_subset must be a list, numpy array, or None\n",
      "initial_subset must be a list, numpy array, or None\n",
      "initial_subset must be a list, numpy array, or None\n",
      "initial_subset must be a list, numpy array, or None\n",
      "initial_subset must be a list, numpy array, or None\n",
      "initial_subset must be a list, numpy array, or None\n",
      "initial_subset must be a list, numpy array, or None\n",
      "initial_subset must be a list, numpy array, or None\n",
      "initial_subset must be a list, numpy array, or None\n",
      "initial_subset must be a list, numpy array, or None\n",
      "initial_subset must be a list, numpy array, or None\n",
      "initial_subset must be a list, numpy array, or None\n",
      "initial_subset must be a list, numpy array, or None\n",
      "initial_subset must be a list, numpy array, or None\n",
      "initial_subset must be a list, numpy array, or None\n",
      "{'function': 'correlation'}\n"
     ]
    },
    {
     "name": "stderr",
     "output_type": "stream",
     "text": [
      "COMET INFO: Still uploading\n"
     ]
    }
   ],
   "source": [
    "parameters = param('facilitylocation')\n",
    "search_alg = \"RND\"\n",
    "algo = algo(search_alg, parameters)\n",
    "for i in [100, 500, 1000, 2500, 5000, 7500, 8000, 9000]:\n",
    "    experiment=init_experiment(api_key, 'tweet_disaster', 'apricot')\n",
    "    n = i    \n",
    "    def objective(trial):\n",
    "        config = suggest_config(parameters, trial)\n",
    "        roc=0.0\n",
    "        try:\n",
    "            start_time = time.time()\n",
    "            Xtr_t, Xte_t = facilityloc(features_t, features_test_t, i, config[\"function\"], \"lazy\")\n",
    "            experiment.log_metric(\"running_time\", time.time()-start_time)\n",
    "            Xtr = Xtr_t.transpose()\n",
    "            Xte = Xte_t.transpose()\n",
    "            acc, pre, rec, roc = train_eval(model, Xtr, Y_train, Xte, Y_test, experiment)\n",
    "        except Exception as err:\n",
    "            print(err)\n",
    "        finally:   \n",
    "            return roc\n",
    "    study = optuna.create_study(direction=\"maximize\", sampler=algo)\n",
    "    study.optimize(objective, n_trials=20, n_jobs=1)\n",
    "    best_param = study.best_params\n",
    "    print(best_param)\n",
    "    experiment.log_parameters({\n",
    "        'best param': best_param,\n",
    "        'size': i,\n",
    "        'function': 'facilitylocation'\n",
    "    })\n",
    "    experiment.end()"
   ]
  },
  {
   "cell_type": "code",
   "execution_count": null,
   "metadata": {},
   "outputs": [
    {
     "name": "stderr",
     "output_type": "stream",
     "text": [
      "COMET WARNING: Config key 'comet.auto_log.weights' is deprecated, please use 'comet.auto_log.histogram_weights' instead\n",
      "COMET INFO: Experiment is live on comet.ml https://www.comet.ml/apricot/tweet-disaster/615ccb1b91d0406db168c51db259bac2\n",
      "\n",
      "\u001b[32m[I 2021-11-15 21:12:43,740]\u001b[0m A new study created in memory with name: no-name-6ff6a5b4-6c09-48c9-b978-fff6b444b865\u001b[0m\n",
      "\u001b[32m[I 2021-11-15 21:12:50,326]\u001b[0m Trial 0 finished with value: 0.0 and parameters: {'optimizer': 'stochastic'}. Best is trial 0 with value: 0.0.\u001b[0m\n"
     ]
    },
    {
     "name": "stdout",
     "output_type": "stream",
     "text": [
      "No matching definition for argument type(s) array(float64, 1d, C), array(int32, 1d, C), array(int32, 1d, C), array(float64, 1d, C), array(float64, 1d, C), unicode_type, array(int64, 1d, C)\n"
     ]
    },
    {
     "name": "stderr",
     "output_type": "stream",
     "text": [
      "\u001b[32m[I 2021-11-15 21:12:56,845]\u001b[0m Trial 1 finished with value: 0.0 and parameters: {'optimizer': 'bidirectional'}. Best is trial 0 with value: 0.0.\u001b[0m\n"
     ]
    },
    {
     "name": "stdout",
     "output_type": "stream",
     "text": [
      "No matching definition for argument type(s) array(float64, 1d, C), array(int32, 1d, C), array(int32, 1d, C), array(float64, 1d, C), array(float64, 1d, C), unicode_type, array(int64, 1d, C)\n"
     ]
    },
    {
     "name": "stderr",
     "output_type": "stream",
     "text": [
      "\u001b[32m[I 2021-11-15 21:13:03,040]\u001b[0m Trial 2 finished with value: 0.0 and parameters: {'optimizer': 'random'}. Best is trial 0 with value: 0.0.\u001b[0m\n"
     ]
    },
    {
     "name": "stdout",
     "output_type": "stream",
     "text": [
      "No matching definition for argument type(s) array(float64, 1d, C), array(int32, 1d, C), array(int32, 1d, C), array(float64, 1d, C), array(float64, 1d, C), unicode_type, array(int64, 1d, C)\n"
     ]
    },
    {
     "name": "stderr",
     "output_type": "stream",
     "text": [
      "\u001b[32m[I 2021-11-15 21:13:09,487]\u001b[0m Trial 3 finished with value: 0.0 and parameters: {'optimizer': 'lazy'}. Best is trial 0 with value: 0.0.\u001b[0m\n"
     ]
    },
    {
     "name": "stdout",
     "output_type": "stream",
     "text": [
      "No matching definition for argument type(s) array(float64, 1d, C), array(int32, 1d, C), array(int32, 1d, C), array(float64, 1d, C), array(float64, 1d, C), unicode_type, array(int64, 1d, C)\n"
     ]
    },
    {
     "name": "stderr",
     "output_type": "stream",
     "text": [
      "\u001b[32m[I 2021-11-15 21:13:15,985]\u001b[0m Trial 4 finished with value: 0.0 and parameters: {'optimizer': 'two-stage'}. Best is trial 0 with value: 0.0.\u001b[0m\n"
     ]
    },
    {
     "name": "stdout",
     "output_type": "stream",
     "text": [
      "No matching definition for argument type(s) array(float64, 1d, C), array(int32, 1d, C), array(int32, 1d, C), array(float64, 1d, C), array(float64, 1d, C), unicode_type, array(int64, 1d, C)\n"
     ]
    },
    {
     "name": "stderr",
     "output_type": "stream",
     "text": [
      "\u001b[32m[I 2021-11-15 21:13:22,197]\u001b[0m Trial 5 finished with value: 0.0 and parameters: {'optimizer': 'sample'}. Best is trial 0 with value: 0.0.\u001b[0m\n"
     ]
    },
    {
     "name": "stdout",
     "output_type": "stream",
     "text": [
      "No matching definition for argument type(s) array(float64, 1d, C), array(int32, 1d, C), array(int32, 1d, C), array(float64, 1d, C), array(float64, 1d, C), unicode_type, array(int64, 1d, C)\n"
     ]
    },
    {
     "name": "stderr",
     "output_type": "stream",
     "text": [
      "\u001b[32m[I 2021-11-15 21:13:28,767]\u001b[0m Trial 6 finished with value: 0.0 and parameters: {'optimizer': 'modular'}. Best is trial 0 with value: 0.0.\u001b[0m\n"
     ]
    },
    {
     "name": "stdout",
     "output_type": "stream",
     "text": [
      "No matching definition for argument type(s) array(float64, 1d, C), array(int32, 1d, C), array(int32, 1d, C), array(float64, 1d, C), array(float64, 1d, C), unicode_type, array(int64, 1d, C)\n"
     ]
    },
    {
     "name": "stderr",
     "output_type": "stream",
     "text": [
      "\u001b[32m[I 2021-11-15 21:13:34,913]\u001b[0m Trial 7 finished with value: 0.0 and parameters: {'optimizer': 'approximate-lazy'}. Best is trial 0 with value: 0.0.\u001b[0m\n"
     ]
    },
    {
     "name": "stdout",
     "output_type": "stream",
     "text": [
      "No matching definition for argument type(s) array(float64, 1d, C), array(int32, 1d, C), array(int32, 1d, C), array(float64, 1d, C), array(float64, 1d, C), unicode_type, array(int64, 1d, C)\n"
     ]
    },
    {
     "name": "stderr",
     "output_type": "stream",
     "text": [
      "\u001b[32m[I 2021-11-15 21:13:41,289]\u001b[0m Trial 8 finished with value: 0.0 and parameters: {'optimizer': 'naive'}. Best is trial 0 with value: 0.0.\u001b[0m\n"
     ]
    },
    {
     "name": "stdout",
     "output_type": "stream",
     "text": [
      "No matching definition for argument type(s) array(float64, 1d, C), array(int32, 1d, C), array(int32, 1d, C), array(float64, 1d, C), array(float64, 1d, C), unicode_type, array(int64, 1d, C)\n"
     ]
    },
    {
     "name": "stderr",
     "output_type": "stream",
     "text": [
      "\u001b[32m[I 2021-11-15 21:13:47,301]\u001b[0m Trial 9 finished with value: 0.0 and parameters: {'optimizer': 'greedi'}. Best is trial 0 with value: 0.0.\u001b[0m\n",
      "COMET INFO: Still uploading\n"
     ]
    },
    {
     "name": "stdout",
     "output_type": "stream",
     "text": [
      "No matching definition for argument type(s) array(float64, 1d, C), array(int32, 1d, C), array(int32, 1d, C), array(float64, 1d, C), array(float64, 1d, C), unicode_type, array(int64, 1d, C)\n",
      "{'optimizer': 'stochastic'}\n"
     ]
    },
    {
     "name": "stderr",
     "output_type": "stream",
     "text": [
      "COMET WARNING: Config key 'comet.auto_log.weights' is deprecated, please use 'comet.auto_log.histogram_weights' instead\n",
      "COMET INFO: Experiment is live on comet.ml https://www.comet.ml/apricot/tweet-disaster/e709572b295d4e2281b9e9606dd1614e\n",
      "\n",
      "\u001b[32m[I 2021-11-15 21:13:54,105]\u001b[0m A new study created in memory with name: no-name-5904779a-ee20-462b-92e0-8a265f1a2bb7\u001b[0m\n",
      "\u001b[32m[I 2021-11-15 21:14:00,739]\u001b[0m Trial 0 finished with value: 0.0 and parameters: {'optimizer': 'random'}. Best is trial 0 with value: 0.0.\u001b[0m\n"
     ]
    },
    {
     "name": "stdout",
     "output_type": "stream",
     "text": [
      "No matching definition for argument type(s) array(float64, 1d, C), array(int32, 1d, C), array(int32, 1d, C), array(float64, 1d, C), array(float64, 1d, C), unicode_type, array(int64, 1d, C)\n"
     ]
    },
    {
     "name": "stderr",
     "output_type": "stream",
     "text": [
      "\u001b[32m[I 2021-11-15 21:14:07,319]\u001b[0m Trial 1 finished with value: 0.0 and parameters: {'optimizer': 'modular'}. Best is trial 0 with value: 0.0.\u001b[0m\n"
     ]
    },
    {
     "name": "stdout",
     "output_type": "stream",
     "text": [
      "No matching definition for argument type(s) array(float64, 1d, C), array(int32, 1d, C), array(int32, 1d, C), array(float64, 1d, C), array(float64, 1d, C), unicode_type, array(int64, 1d, C)\n"
     ]
    },
    {
     "name": "stderr",
     "output_type": "stream",
     "text": [
      "\u001b[32m[I 2021-11-15 21:14:13,508]\u001b[0m Trial 2 finished with value: 0.0 and parameters: {'optimizer': 'naive'}. Best is trial 0 with value: 0.0.\u001b[0m\n"
     ]
    },
    {
     "name": "stdout",
     "output_type": "stream",
     "text": [
      "No matching definition for argument type(s) array(float64, 1d, C), array(int32, 1d, C), array(int32, 1d, C), array(float64, 1d, C), array(float64, 1d, C), unicode_type, array(int64, 1d, C)\n"
     ]
    },
    {
     "name": "stderr",
     "output_type": "stream",
     "text": [
      "\u001b[32m[I 2021-11-15 21:14:20,142]\u001b[0m Trial 3 finished with value: 0.0 and parameters: {'optimizer': 'lazy'}. Best is trial 0 with value: 0.0.\u001b[0m\n"
     ]
    },
    {
     "name": "stdout",
     "output_type": "stream",
     "text": [
      "No matching definition for argument type(s) array(float64, 1d, C), array(int32, 1d, C), array(int32, 1d, C), array(float64, 1d, C), array(float64, 1d, C), unicode_type, array(int64, 1d, C)\n"
     ]
    },
    {
     "name": "stderr",
     "output_type": "stream",
     "text": [
      "\u001b[32m[I 2021-11-15 21:14:26,385]\u001b[0m Trial 4 finished with value: 0.0 and parameters: {'optimizer': 'stochastic'}. Best is trial 0 with value: 0.0.\u001b[0m\n"
     ]
    },
    {
     "name": "stdout",
     "output_type": "stream",
     "text": [
      "No matching definition for argument type(s) array(float64, 1d, C), array(int32, 1d, C), array(int32, 1d, C), array(float64, 1d, C), array(float64, 1d, C), unicode_type, array(int64, 1d, C)\n"
     ]
    },
    {
     "name": "stderr",
     "output_type": "stream",
     "text": [
      "\u001b[32m[I 2021-11-15 21:14:33,002]\u001b[0m Trial 5 finished with value: 0.0 and parameters: {'optimizer': 'greedi'}. Best is trial 0 with value: 0.0.\u001b[0m\n"
     ]
    },
    {
     "name": "stdout",
     "output_type": "stream",
     "text": [
      "No matching definition for argument type(s) array(float64, 1d, C), array(int32, 1d, C), array(int32, 1d, C), array(float64, 1d, C), array(float64, 1d, C), unicode_type, array(int64, 1d, C)\n"
     ]
    },
    {
     "name": "stderr",
     "output_type": "stream",
     "text": [
      "\u001b[32m[I 2021-11-15 21:14:39,133]\u001b[0m Trial 6 finished with value: 0.0 and parameters: {'optimizer': 'two-stage'}. Best is trial 0 with value: 0.0.\u001b[0m\n"
     ]
    },
    {
     "name": "stdout",
     "output_type": "stream",
     "text": [
      "No matching definition for argument type(s) array(float64, 1d, C), array(int32, 1d, C), array(int32, 1d, C), array(float64, 1d, C), array(float64, 1d, C), unicode_type, array(int64, 1d, C)\n"
     ]
    },
    {
     "name": "stderr",
     "output_type": "stream",
     "text": [
      "\u001b[32m[I 2021-11-15 21:14:45,684]\u001b[0m Trial 7 finished with value: 0.0 and parameters: {'optimizer': 'approximate-lazy'}. Best is trial 0 with value: 0.0.\u001b[0m\n"
     ]
    },
    {
     "name": "stdout",
     "output_type": "stream",
     "text": [
      "No matching definition for argument type(s) array(float64, 1d, C), array(int32, 1d, C), array(int32, 1d, C), array(float64, 1d, C), array(float64, 1d, C), unicode_type, array(int64, 1d, C)\n"
     ]
    },
    {
     "name": "stderr",
     "output_type": "stream",
     "text": [
      "\u001b[32m[I 2021-11-15 21:14:52,306]\u001b[0m Trial 8 finished with value: 0.0 and parameters: {'optimizer': 'sample'}. Best is trial 0 with value: 0.0.\u001b[0m\n"
     ]
    },
    {
     "name": "stdout",
     "output_type": "stream",
     "text": [
      "No matching definition for argument type(s) array(float64, 1d, C), array(int32, 1d, C), array(int32, 1d, C), array(float64, 1d, C), array(float64, 1d, C), unicode_type, array(int64, 1d, C)\n"
     ]
    },
    {
     "name": "stderr",
     "output_type": "stream",
     "text": [
      "\u001b[32m[I 2021-11-15 21:14:58,446]\u001b[0m Trial 9 finished with value: 0.0 and parameters: {'optimizer': 'bidirectional'}. Best is trial 0 with value: 0.0.\u001b[0m\n",
      "COMET INFO: Still uploading\n"
     ]
    },
    {
     "name": "stdout",
     "output_type": "stream",
     "text": [
      "No matching definition for argument type(s) array(float64, 1d, C), array(int32, 1d, C), array(int32, 1d, C), array(float64, 1d, C), array(float64, 1d, C), unicode_type, array(int64, 1d, C)\n",
      "{'optimizer': 'random'}\n"
     ]
    },
    {
     "name": "stderr",
     "output_type": "stream",
     "text": [
      "COMET WARNING: Config key 'comet.auto_log.weights' is deprecated, please use 'comet.auto_log.histogram_weights' instead\n",
      "COMET INFO: Experiment is live on comet.ml https://www.comet.ml/apricot/tweet-disaster/e09c10b372da4bafb7e573c9c7fd36ba\n",
      "\n",
      "\u001b[32m[I 2021-11-15 21:15:03,264]\u001b[0m A new study created in memory with name: no-name-df05065f-1635-4803-89fa-168c22d9637d\u001b[0m\n",
      "\u001b[32m[I 2021-11-15 21:15:10,004]\u001b[0m Trial 0 finished with value: 0.0 and parameters: {'optimizer': 'greedi'}. Best is trial 0 with value: 0.0.\u001b[0m\n"
     ]
    },
    {
     "name": "stdout",
     "output_type": "stream",
     "text": [
      "No matching definition for argument type(s) array(float64, 1d, C), array(int32, 1d, C), array(int32, 1d, C), array(float64, 1d, C), array(float64, 1d, C), unicode_type, array(int64, 1d, C)\n"
     ]
    },
    {
     "name": "stderr",
     "output_type": "stream",
     "text": [
      "\u001b[32m[I 2021-11-15 21:15:16,315]\u001b[0m Trial 1 finished with value: 0.0 and parameters: {'optimizer': 'random'}. Best is trial 0 with value: 0.0.\u001b[0m\n"
     ]
    },
    {
     "name": "stdout",
     "output_type": "stream",
     "text": [
      "No matching definition for argument type(s) array(float64, 1d, C), array(int32, 1d, C), array(int32, 1d, C), array(float64, 1d, C), array(float64, 1d, C), unicode_type, array(int64, 1d, C)\n"
     ]
    },
    {
     "name": "stderr",
     "output_type": "stream",
     "text": [
      "\u001b[32m[I 2021-11-15 21:15:44,196]\u001b[0m Trial 2 finished with value: 0.0 and parameters: {'optimizer': 'bidirectional'}. Best is trial 0 with value: 0.0.\u001b[0m\n"
     ]
    },
    {
     "name": "stdout",
     "output_type": "stream",
     "text": [
      "No matching definition for argument type(s) array(float64, 1d, C), array(int32, 1d, C), array(int32, 1d, C), array(float64, 1d, C), array(float64, 1d, C), unicode_type, array(int64, 1d, C)\n"
     ]
    },
    {
     "name": "stderr",
     "output_type": "stream",
     "text": [
      "\u001b[32m[I 2021-11-15 21:15:50,284]\u001b[0m Trial 3 finished with value: 0.0 and parameters: {'optimizer': 'approximate-lazy'}. Best is trial 0 with value: 0.0.\u001b[0m\n"
     ]
    },
    {
     "name": "stdout",
     "output_type": "stream",
     "text": [
      "No matching definition for argument type(s) array(float64, 1d, C), array(int32, 1d, C), array(int32, 1d, C), array(float64, 1d, C), array(float64, 1d, C), unicode_type, array(int64, 1d, C)\n"
     ]
    },
    {
     "name": "stderr",
     "output_type": "stream",
     "text": [
      "\u001b[32m[I 2021-11-15 21:15:56,868]\u001b[0m Trial 4 finished with value: 0.0 and parameters: {'optimizer': 'stochastic'}. Best is trial 0 with value: 0.0.\u001b[0m\n"
     ]
    },
    {
     "name": "stdout",
     "output_type": "stream",
     "text": [
      "No matching definition for argument type(s) array(float64, 1d, C), array(int32, 1d, C), array(int32, 1d, C), array(float64, 1d, C), array(float64, 1d, C), unicode_type, array(int64, 1d, C)\n"
     ]
    },
    {
     "name": "stderr",
     "output_type": "stream",
     "text": [
      "\u001b[32m[I 2021-11-15 21:16:03,376]\u001b[0m Trial 5 finished with value: 0.0 and parameters: {'optimizer': 'two-stage'}. Best is trial 0 with value: 0.0.\u001b[0m\n"
     ]
    },
    {
     "name": "stdout",
     "output_type": "stream",
     "text": [
      "No matching definition for argument type(s) array(float64, 1d, C), array(int32, 1d, C), array(int32, 1d, C), array(float64, 1d, C), array(float64, 1d, C), unicode_type, array(int64, 1d, C)\n"
     ]
    },
    {
     "name": "stderr",
     "output_type": "stream",
     "text": [
      "\u001b[32m[I 2021-11-15 21:16:09,496]\u001b[0m Trial 6 finished with value: 0.0 and parameters: {'optimizer': 'modular'}. Best is trial 0 with value: 0.0.\u001b[0m\n"
     ]
    },
    {
     "name": "stdout",
     "output_type": "stream",
     "text": [
      "No matching definition for argument type(s) array(float64, 1d, C), array(int32, 1d, C), array(int32, 1d, C), array(float64, 1d, C), array(float64, 1d, C), unicode_type, array(int64, 1d, C)\n"
     ]
    },
    {
     "name": "stderr",
     "output_type": "stream",
     "text": [
      "\u001b[32m[I 2021-11-15 21:16:15,980]\u001b[0m Trial 7 finished with value: 0.0 and parameters: {'optimizer': 'lazy'}. Best is trial 0 with value: 0.0.\u001b[0m\n"
     ]
    },
    {
     "name": "stdout",
     "output_type": "stream",
     "text": [
      "No matching definition for argument type(s) array(float64, 1d, C), array(int32, 1d, C), array(int32, 1d, C), array(float64, 1d, C), array(float64, 1d, C), unicode_type, array(int64, 1d, C)\n"
     ]
    },
    {
     "name": "stderr",
     "output_type": "stream",
     "text": [
      "\u001b[32m[I 2021-11-15 21:16:22,050]\u001b[0m Trial 8 finished with value: 0.0 and parameters: {'optimizer': 'naive'}. Best is trial 0 with value: 0.0.\u001b[0m\n"
     ]
    },
    {
     "name": "stdout",
     "output_type": "stream",
     "text": [
      "No matching definition for argument type(s) array(float64, 1d, C), array(int32, 1d, C), array(int32, 1d, C), array(float64, 1d, C), array(float64, 1d, C), unicode_type, array(int64, 1d, C)\n"
     ]
    },
    {
     "name": "stderr",
     "output_type": "stream",
     "text": [
      "\u001b[32m[I 2021-11-15 21:16:28,642]\u001b[0m Trial 9 finished with value: 0.0 and parameters: {'optimizer': 'sample'}. Best is trial 0 with value: 0.0.\u001b[0m\n",
      "COMET INFO: Still uploading\n"
     ]
    },
    {
     "name": "stdout",
     "output_type": "stream",
     "text": [
      "No matching definition for argument type(s) array(float64, 1d, C), array(int32, 1d, C), array(int32, 1d, C), array(float64, 1d, C), array(float64, 1d, C), unicode_type, array(int64, 1d, C)\n",
      "{'optimizer': 'greedi'}\n"
     ]
    },
    {
     "name": "stderr",
     "output_type": "stream",
     "text": [
      "COMET WARNING: Config key 'comet.auto_log.weights' is deprecated, please use 'comet.auto_log.histogram_weights' instead\n",
      "COMET INFO: Experiment is live on comet.ml https://www.comet.ml/apricot/tweet-disaster/9a8955061fa24465951c190387963638\n",
      "\n",
      "\u001b[32m[I 2021-11-15 21:16:33,008]\u001b[0m A new study created in memory with name: no-name-ee1f0977-6cab-4458-9b21-28f0ff0d3bfa\u001b[0m\n",
      "\u001b[32m[I 2021-11-15 21:16:39,167]\u001b[0m Trial 0 finished with value: 0.0 and parameters: {'optimizer': 'approximate-lazy'}. Best is trial 0 with value: 0.0.\u001b[0m\n"
     ]
    },
    {
     "name": "stdout",
     "output_type": "stream",
     "text": [
      "No matching definition for argument type(s) array(float64, 1d, C), array(int32, 1d, C), array(int32, 1d, C), array(float64, 1d, C), array(float64, 1d, C), unicode_type, array(int64, 1d, C)\n"
     ]
    },
    {
     "name": "stderr",
     "output_type": "stream",
     "text": [
      "\u001b[32m[I 2021-11-15 21:16:45,727]\u001b[0m Trial 1 finished with value: 0.0 and parameters: {'optimizer': 'lazy'}. Best is trial 0 with value: 0.0.\u001b[0m\n"
     ]
    },
    {
     "name": "stdout",
     "output_type": "stream",
     "text": [
      "No matching definition for argument type(s) array(float64, 1d, C), array(int32, 1d, C), array(int32, 1d, C), array(float64, 1d, C), array(float64, 1d, C), unicode_type, array(int64, 1d, C)\n"
     ]
    },
    {
     "name": "stderr",
     "output_type": "stream",
     "text": [
      "\u001b[32m[I 2021-11-15 21:16:51,923]\u001b[0m Trial 2 finished with value: 0.0 and parameters: {'optimizer': 'modular'}. Best is trial 0 with value: 0.0.\u001b[0m\n"
     ]
    },
    {
     "name": "stdout",
     "output_type": "stream",
     "text": [
      "No matching definition for argument type(s) array(float64, 1d, C), array(int32, 1d, C), array(int32, 1d, C), array(float64, 1d, C), array(float64, 1d, C), unicode_type, array(int64, 1d, C)\n"
     ]
    },
    {
     "name": "stderr",
     "output_type": "stream",
     "text": [
      "\u001b[32m[I 2021-11-15 21:16:58,662]\u001b[0m Trial 3 finished with value: 0.0 and parameters: {'optimizer': 'two-stage'}. Best is trial 0 with value: 0.0.\u001b[0m\n"
     ]
    },
    {
     "name": "stdout",
     "output_type": "stream",
     "text": [
      "No matching definition for argument type(s) array(float64, 1d, C), array(int32, 1d, C), array(int32, 1d, C), array(float64, 1d, C), array(float64, 1d, C), unicode_type, array(int64, 1d, C)\n"
     ]
    },
    {
     "name": "stderr",
     "output_type": "stream",
     "text": [
      "\u001b[32m[I 2021-11-15 21:17:04,739]\u001b[0m Trial 4 finished with value: 0.0 and parameters: {'optimizer': 'sample'}. Best is trial 0 with value: 0.0.\u001b[0m\n"
     ]
    },
    {
     "name": "stdout",
     "output_type": "stream",
     "text": [
      "No matching definition for argument type(s) array(float64, 1d, C), array(int32, 1d, C), array(int32, 1d, C), array(float64, 1d, C), array(float64, 1d, C), unicode_type, array(int64, 1d, C)\n"
     ]
    },
    {
     "name": "stderr",
     "output_type": "stream",
     "text": [
      "\u001b[32m[I 2021-11-15 21:17:11,237]\u001b[0m Trial 5 finished with value: 0.0 and parameters: {'optimizer': 'random'}. Best is trial 0 with value: 0.0.\u001b[0m\n"
     ]
    },
    {
     "name": "stdout",
     "output_type": "stream",
     "text": [
      "No matching definition for argument type(s) array(float64, 1d, C), array(int32, 1d, C), array(int32, 1d, C), array(float64, 1d, C), array(float64, 1d, C), unicode_type, array(int64, 1d, C)\n"
     ]
    },
    {
     "name": "stderr",
     "output_type": "stream",
     "text": [
      "\u001b[32m[I 2021-11-15 21:17:17,645]\u001b[0m Trial 6 finished with value: 0.0 and parameters: {'optimizer': 'bidirectional'}. Best is trial 0 with value: 0.0.\u001b[0m\n"
     ]
    },
    {
     "name": "stdout",
     "output_type": "stream",
     "text": [
      "No matching definition for argument type(s) array(float64, 1d, C), array(int32, 1d, C), array(int32, 1d, C), array(float64, 1d, C), array(float64, 1d, C), unicode_type, array(int64, 1d, C)\n"
     ]
    },
    {
     "name": "stderr",
     "output_type": "stream",
     "text": [
      "\u001b[32m[I 2021-11-15 21:17:23,710]\u001b[0m Trial 7 finished with value: 0.0 and parameters: {'optimizer': 'greedi'}. Best is trial 0 with value: 0.0.\u001b[0m\n"
     ]
    },
    {
     "name": "stdout",
     "output_type": "stream",
     "text": [
      "No matching definition for argument type(s) array(float64, 1d, C), array(int32, 1d, C), array(int32, 1d, C), array(float64, 1d, C), array(float64, 1d, C), unicode_type, array(int64, 1d, C)\n"
     ]
    },
    {
     "name": "stderr",
     "output_type": "stream",
     "text": [
      "\u001b[32m[I 2021-11-15 21:17:30,257]\u001b[0m Trial 8 finished with value: 0.0 and parameters: {'optimizer': 'stochastic'}. Best is trial 0 with value: 0.0.\u001b[0m\n"
     ]
    },
    {
     "name": "stdout",
     "output_type": "stream",
     "text": [
      "No matching definition for argument type(s) array(float64, 1d, C), array(int32, 1d, C), array(int32, 1d, C), array(float64, 1d, C), array(float64, 1d, C), unicode_type, array(int64, 1d, C)\n"
     ]
    },
    {
     "name": "stderr",
     "output_type": "stream",
     "text": [
      "\u001b[32m[I 2021-11-15 21:17:36,338]\u001b[0m Trial 9 finished with value: 0.0 and parameters: {'optimizer': 'naive'}. Best is trial 0 with value: 0.0.\u001b[0m\n",
      "COMET INFO: Still uploading\n"
     ]
    },
    {
     "name": "stdout",
     "output_type": "stream",
     "text": [
      "No matching definition for argument type(s) array(float64, 1d, C), array(int32, 1d, C), array(int32, 1d, C), array(float64, 1d, C), array(float64, 1d, C), unicode_type, array(int64, 1d, C)\n",
      "{'optimizer': 'approximate-lazy'}\n"
     ]
    },
    {
     "name": "stderr",
     "output_type": "stream",
     "text": [
      "COMET WARNING: Config key 'comet.auto_log.weights' is deprecated, please use 'comet.auto_log.histogram_weights' instead\n",
      "COMET INFO: Experiment is live on comet.ml https://www.comet.ml/apricot/tweet-disaster/a4ae670c96fd49b0ada5471ef0a28e76\n",
      "\n",
      "\u001b[32m[I 2021-11-15 21:17:42,603]\u001b[0m A new study created in memory with name: no-name-28ae9f3d-54ce-4d6f-9e72-0fba58a3acec\u001b[0m\n",
      "\u001b[32m[I 2021-11-15 21:17:49,168]\u001b[0m Trial 0 finished with value: 0.0 and parameters: {'optimizer': 'lazy'}. Best is trial 0 with value: 0.0.\u001b[0m\n"
     ]
    },
    {
     "name": "stdout",
     "output_type": "stream",
     "text": [
      "No matching definition for argument type(s) array(float64, 1d, C), array(int32, 1d, C), array(int32, 1d, C), array(float64, 1d, C), array(float64, 1d, C), unicode_type, array(int64, 1d, C)\n"
     ]
    },
    {
     "name": "stderr",
     "output_type": "stream",
     "text": [
      "\u001b[32m[I 2021-11-15 21:17:55,337]\u001b[0m Trial 1 finished with value: 0.0 and parameters: {'optimizer': 'approximate-lazy'}. Best is trial 0 with value: 0.0.\u001b[0m\n"
     ]
    },
    {
     "name": "stdout",
     "output_type": "stream",
     "text": [
      "No matching definition for argument type(s) array(float64, 1d, C), array(int32, 1d, C), array(int32, 1d, C), array(float64, 1d, C), array(float64, 1d, C), unicode_type, array(int64, 1d, C)\n"
     ]
    },
    {
     "name": "stderr",
     "output_type": "stream",
     "text": [
      "\u001b[32m[I 2021-11-15 21:18:01,945]\u001b[0m Trial 2 finished with value: 0.0 and parameters: {'optimizer': 'random'}. Best is trial 0 with value: 0.0.\u001b[0m\n"
     ]
    },
    {
     "name": "stdout",
     "output_type": "stream",
     "text": [
      "No matching definition for argument type(s) array(float64, 1d, C), array(int32, 1d, C), array(int32, 1d, C), array(float64, 1d, C), array(float64, 1d, C), unicode_type, array(int64, 1d, C)\n"
     ]
    },
    {
     "name": "stderr",
     "output_type": "stream",
     "text": [
      "\u001b[32m[I 2021-11-15 21:18:07,980]\u001b[0m Trial 3 finished with value: 0.0 and parameters: {'optimizer': 'bidirectional'}. Best is trial 0 with value: 0.0.\u001b[0m\n"
     ]
    },
    {
     "name": "stdout",
     "output_type": "stream",
     "text": [
      "No matching definition for argument type(s) array(float64, 1d, C), array(int32, 1d, C), array(int32, 1d, C), array(float64, 1d, C), array(float64, 1d, C), unicode_type, array(int64, 1d, C)\n"
     ]
    },
    {
     "name": "stderr",
     "output_type": "stream",
     "text": [
      "\u001b[32m[I 2021-11-15 21:18:14,019]\u001b[0m Trial 4 finished with value: 0.0 and parameters: {'optimizer': 'stochastic'}. Best is trial 0 with value: 0.0.\u001b[0m\n"
     ]
    },
    {
     "name": "stdout",
     "output_type": "stream",
     "text": [
      "No matching definition for argument type(s) array(float64, 1d, C), array(int32, 1d, C), array(int32, 1d, C), array(float64, 1d, C), array(float64, 1d, C), unicode_type, array(int64, 1d, C)\n"
     ]
    },
    {
     "name": "stderr",
     "output_type": "stream",
     "text": [
      "\u001b[32m[I 2021-11-15 21:18:20,546]\u001b[0m Trial 5 finished with value: 0.0 and parameters: {'optimizer': 'sample'}. Best is trial 0 with value: 0.0.\u001b[0m\n"
     ]
    },
    {
     "name": "stdout",
     "output_type": "stream",
     "text": [
      "No matching definition for argument type(s) array(float64, 1d, C), array(int32, 1d, C), array(int32, 1d, C), array(float64, 1d, C), array(float64, 1d, C), unicode_type, array(int64, 1d, C)\n"
     ]
    },
    {
     "name": "stderr",
     "output_type": "stream",
     "text": [
      "\u001b[32m[I 2021-11-15 21:18:27,115]\u001b[0m Trial 6 finished with value: 0.0 and parameters: {'optimizer': 'two-stage'}. Best is trial 0 with value: 0.0.\u001b[0m\n"
     ]
    },
    {
     "name": "stdout",
     "output_type": "stream",
     "text": [
      "No matching definition for argument type(s) array(float64, 1d, C), array(int32, 1d, C), array(int32, 1d, C), array(float64, 1d, C), array(float64, 1d, C), unicode_type, array(int64, 1d, C)\n"
     ]
    },
    {
     "name": "stderr",
     "output_type": "stream",
     "text": [
      "\u001b[32m[I 2021-11-15 21:18:33,181]\u001b[0m Trial 7 finished with value: 0.0 and parameters: {'optimizer': 'modular'}. Best is trial 0 with value: 0.0.\u001b[0m\n"
     ]
    },
    {
     "name": "stdout",
     "output_type": "stream",
     "text": [
      "No matching definition for argument type(s) array(float64, 1d, C), array(int32, 1d, C), array(int32, 1d, C), array(float64, 1d, C), array(float64, 1d, C), unicode_type, array(int64, 1d, C)\n"
     ]
    },
    {
     "name": "stderr",
     "output_type": "stream",
     "text": [
      "\u001b[32m[I 2021-11-15 21:18:39,782]\u001b[0m Trial 8 finished with value: 0.0 and parameters: {'optimizer': 'greedi'}. Best is trial 0 with value: 0.0.\u001b[0m\n"
     ]
    },
    {
     "name": "stdout",
     "output_type": "stream",
     "text": [
      "No matching definition for argument type(s) array(float64, 1d, C), array(int32, 1d, C), array(int32, 1d, C), array(float64, 1d, C), array(float64, 1d, C), unicode_type, array(int64, 1d, C)\n"
     ]
    },
    {
     "name": "stderr",
     "output_type": "stream",
     "text": [
      "\u001b[32m[I 2021-11-15 21:18:45,845]\u001b[0m Trial 9 finished with value: 0.0 and parameters: {'optimizer': 'naive'}. Best is trial 0 with value: 0.0.\u001b[0m\n",
      "COMET INFO: Still uploading\n"
     ]
    },
    {
     "name": "stdout",
     "output_type": "stream",
     "text": [
      "No matching definition for argument type(s) array(float64, 1d, C), array(int32, 1d, C), array(int32, 1d, C), array(float64, 1d, C), array(float64, 1d, C), unicode_type, array(int64, 1d, C)\n",
      "{'optimizer': 'lazy'}\n"
     ]
    },
    {
     "name": "stderr",
     "output_type": "stream",
     "text": [
      "COMET WARNING: Config key 'comet.auto_log.weights' is deprecated, please use 'comet.auto_log.histogram_weights' instead\n",
      "COMET INFO: Experiment is live on comet.ml https://www.comet.ml/apricot/tweet-disaster/bbca911ed9144f338b655c572fdf4a97\n",
      "\n",
      "\u001b[32m[I 2021-11-15 21:18:49,568]\u001b[0m A new study created in memory with name: no-name-e2c473cd-8da4-4c22-ae36-d3d2937972a6\u001b[0m\n",
      "\u001b[32m[I 2021-11-15 21:18:56,292]\u001b[0m Trial 0 finished with value: 0.0 and parameters: {'optimizer': 'stochastic'}. Best is trial 0 with value: 0.0.\u001b[0m\n"
     ]
    },
    {
     "name": "stdout",
     "output_type": "stream",
     "text": [
      "No matching definition for argument type(s) array(float64, 1d, C), array(int32, 1d, C), array(int32, 1d, C), array(float64, 1d, C), array(float64, 1d, C), unicode_type, array(int64, 1d, C)\n"
     ]
    },
    {
     "name": "stderr",
     "output_type": "stream",
     "text": [
      "\u001b[32m[I 2021-11-15 21:19:02,468]\u001b[0m Trial 1 finished with value: 0.0 and parameters: {'optimizer': 'sample'}. Best is trial 0 with value: 0.0.\u001b[0m\n"
     ]
    },
    {
     "name": "stdout",
     "output_type": "stream",
     "text": [
      "No matching definition for argument type(s) array(float64, 1d, C), array(int32, 1d, C), array(int32, 1d, C), array(float64, 1d, C), array(float64, 1d, C), unicode_type, array(int64, 1d, C)\n"
     ]
    },
    {
     "name": "stderr",
     "output_type": "stream",
     "text": [
      "\u001b[32m[I 2021-11-15 21:19:09,182]\u001b[0m Trial 2 finished with value: 0.0 and parameters: {'optimizer': 'modular'}. Best is trial 0 with value: 0.0.\u001b[0m\n"
     ]
    },
    {
     "name": "stdout",
     "output_type": "stream",
     "text": [
      "No matching definition for argument type(s) array(float64, 1d, C), array(int32, 1d, C), array(int32, 1d, C), array(float64, 1d, C), array(float64, 1d, C), unicode_type, array(int64, 1d, C)\n"
     ]
    },
    {
     "name": "stderr",
     "output_type": "stream",
     "text": [
      "\u001b[32m[I 2021-11-15 21:19:15,364]\u001b[0m Trial 3 finished with value: 0.0 and parameters: {'optimizer': 'approximate-lazy'}. Best is trial 0 with value: 0.0.\u001b[0m\n"
     ]
    },
    {
     "name": "stdout",
     "output_type": "stream",
     "text": [
      "No matching definition for argument type(s) array(float64, 1d, C), array(int32, 1d, C), array(int32, 1d, C), array(float64, 1d, C), array(float64, 1d, C), unicode_type, array(int64, 1d, C)\n"
     ]
    },
    {
     "name": "stderr",
     "output_type": "stream",
     "text": [
      "\u001b[32m[I 2021-11-15 21:19:21,470]\u001b[0m Trial 4 finished with value: 0.0 and parameters: {'optimizer': 'greedi'}. Best is trial 0 with value: 0.0.\u001b[0m\n"
     ]
    },
    {
     "name": "stdout",
     "output_type": "stream",
     "text": [
      "No matching definition for argument type(s) array(float64, 1d, C), array(int32, 1d, C), array(int32, 1d, C), array(float64, 1d, C), array(float64, 1d, C), unicode_type, array(int64, 1d, C)\n"
     ]
    },
    {
     "name": "stderr",
     "output_type": "stream",
     "text": [
      "\u001b[32m[I 2021-11-15 21:19:28,099]\u001b[0m Trial 5 finished with value: 0.0 and parameters: {'optimizer': 'lazy'}. Best is trial 0 with value: 0.0.\u001b[0m\n"
     ]
    },
    {
     "name": "stdout",
     "output_type": "stream",
     "text": [
      "No matching definition for argument type(s) array(float64, 1d, C), array(int32, 1d, C), array(int32, 1d, C), array(float64, 1d, C), array(float64, 1d, C), unicode_type, array(int64, 1d, C)\n"
     ]
    },
    {
     "name": "stderr",
     "output_type": "stream",
     "text": [
      "\u001b[32m[I 2021-11-15 21:19:34,673]\u001b[0m Trial 6 finished with value: 0.0 and parameters: {'optimizer': 'naive'}. Best is trial 0 with value: 0.0.\u001b[0m\n"
     ]
    },
    {
     "name": "stdout",
     "output_type": "stream",
     "text": [
      "No matching definition for argument type(s) array(float64, 1d, C), array(int32, 1d, C), array(int32, 1d, C), array(float64, 1d, C), array(float64, 1d, C), unicode_type, array(int64, 1d, C)\n"
     ]
    },
    {
     "name": "stderr",
     "output_type": "stream",
     "text": [
      "\u001b[32m[I 2021-11-15 21:19:40,867]\u001b[0m Trial 7 finished with value: 0.0 and parameters: {'optimizer': 'bidirectional'}. Best is trial 0 with value: 0.0.\u001b[0m\n"
     ]
    },
    {
     "name": "stdout",
     "output_type": "stream",
     "text": [
      "No matching definition for argument type(s) array(float64, 1d, C), array(int32, 1d, C), array(int32, 1d, C), array(float64, 1d, C), array(float64, 1d, C), unicode_type, array(int64, 1d, C)\n"
     ]
    },
    {
     "name": "stderr",
     "output_type": "stream",
     "text": [
      "\u001b[32m[I 2021-11-15 21:19:46,856]\u001b[0m Trial 8 finished with value: 0.0 and parameters: {'optimizer': 'random'}. Best is trial 0 with value: 0.0.\u001b[0m\n"
     ]
    },
    {
     "name": "stdout",
     "output_type": "stream",
     "text": [
      "No matching definition for argument type(s) array(float64, 1d, C), array(int32, 1d, C), array(int32, 1d, C), array(float64, 1d, C), array(float64, 1d, C), unicode_type, array(int64, 1d, C)\n"
     ]
    },
    {
     "name": "stderr",
     "output_type": "stream",
     "text": [
      "\u001b[32m[I 2021-11-15 21:19:53,461]\u001b[0m Trial 9 finished with value: 0.0 and parameters: {'optimizer': 'two-stage'}. Best is trial 0 with value: 0.0.\u001b[0m\n",
      "COMET INFO: Still uploading\n"
     ]
    },
    {
     "name": "stdout",
     "output_type": "stream",
     "text": [
      "No matching definition for argument type(s) array(float64, 1d, C), array(int32, 1d, C), array(int32, 1d, C), array(float64, 1d, C), array(float64, 1d, C), unicode_type, array(int64, 1d, C)\n",
      "{'optimizer': 'stochastic'}\n"
     ]
    },
    {
     "name": "stderr",
     "output_type": "stream",
     "text": [
      "COMET WARNING: Config key 'comet.auto_log.weights' is deprecated, please use 'comet.auto_log.histogram_weights' instead\n",
      "COMET INFO: Experiment is live on comet.ml https://www.comet.ml/apricot/tweet-disaster/d47df841a5684c989bab4f7bb383260d\n",
      "\n",
      "\u001b[32m[I 2021-11-15 21:19:58,863]\u001b[0m A new study created in memory with name: no-name-d5e5c9db-d878-4a0d-8200-1fa030dd95ff\u001b[0m\n",
      "\u001b[32m[I 2021-11-15 21:20:05,817]\u001b[0m Trial 0 finished with value: 0.0 and parameters: {'optimizer': 'bidirectional'}. Best is trial 0 with value: 0.0.\u001b[0m\n"
     ]
    },
    {
     "name": "stdout",
     "output_type": "stream",
     "text": [
      "No matching definition for argument type(s) array(float64, 1d, C), array(int32, 1d, C), array(int32, 1d, C), array(float64, 1d, C), array(float64, 1d, C), unicode_type, array(int64, 1d, C)\n"
     ]
    },
    {
     "name": "stderr",
     "output_type": "stream",
     "text": [
      "\u001b[32m[I 2021-11-15 21:20:12,116]\u001b[0m Trial 1 finished with value: 0.0 and parameters: {'optimizer': 'sample'}. Best is trial 0 with value: 0.0.\u001b[0m\n"
     ]
    },
    {
     "name": "stdout",
     "output_type": "stream",
     "text": [
      "No matching definition for argument type(s) array(float64, 1d, C), array(int32, 1d, C), array(int32, 1d, C), array(float64, 1d, C), array(float64, 1d, C), unicode_type, array(int64, 1d, C)\n"
     ]
    },
    {
     "name": "stderr",
     "output_type": "stream",
     "text": [
      "\u001b[32m[I 2021-11-15 21:20:18,349]\u001b[0m Trial 2 finished with value: 0.0 and parameters: {'optimizer': 'random'}. Best is trial 0 with value: 0.0.\u001b[0m\n"
     ]
    },
    {
     "name": "stdout",
     "output_type": "stream",
     "text": [
      "No matching definition for argument type(s) array(float64, 1d, C), array(int32, 1d, C), array(int32, 1d, C), array(float64, 1d, C), array(float64, 1d, C), unicode_type, array(int64, 1d, C)\n"
     ]
    },
    {
     "name": "stderr",
     "output_type": "stream",
     "text": [
      "\u001b[32m[I 2021-11-15 21:20:25,012]\u001b[0m Trial 3 finished with value: 0.0 and parameters: {'optimizer': 'modular'}. Best is trial 0 with value: 0.0.\u001b[0m\n"
     ]
    },
    {
     "name": "stdout",
     "output_type": "stream",
     "text": [
      "No matching definition for argument type(s) array(float64, 1d, C), array(int32, 1d, C), array(int32, 1d, C), array(float64, 1d, C), array(float64, 1d, C), unicode_type, array(int64, 1d, C)\n"
     ]
    },
    {
     "name": "stderr",
     "output_type": "stream",
     "text": [
      "\u001b[32m[I 2021-11-15 21:20:31,070]\u001b[0m Trial 4 finished with value: 0.0 and parameters: {'optimizer': 'lazy'}. Best is trial 0 with value: 0.0.\u001b[0m\n"
     ]
    },
    {
     "name": "stdout",
     "output_type": "stream",
     "text": [
      "No matching definition for argument type(s) array(float64, 1d, C), array(int32, 1d, C), array(int32, 1d, C), array(float64, 1d, C), array(float64, 1d, C), unicode_type, array(int64, 1d, C)\n"
     ]
    },
    {
     "name": "stderr",
     "output_type": "stream",
     "text": [
      "\u001b[32m[I 2021-11-15 21:20:37,624]\u001b[0m Trial 5 finished with value: 0.0 and parameters: {'optimizer': 'stochastic'}. Best is trial 0 with value: 0.0.\u001b[0m\n"
     ]
    },
    {
     "name": "stdout",
     "output_type": "stream",
     "text": [
      "No matching definition for argument type(s) array(float64, 1d, C), array(int32, 1d, C), array(int32, 1d, C), array(float64, 1d, C), array(float64, 1d, C), unicode_type, array(int64, 1d, C)\n"
     ]
    },
    {
     "name": "stderr",
     "output_type": "stream",
     "text": [
      "\u001b[32m[I 2021-11-15 21:20:43,763]\u001b[0m Trial 6 finished with value: 0.0 and parameters: {'optimizer': 'naive'}. Best is trial 0 with value: 0.0.\u001b[0m\n"
     ]
    },
    {
     "name": "stdout",
     "output_type": "stream",
     "text": [
      "No matching definition for argument type(s) array(float64, 1d, C), array(int32, 1d, C), array(int32, 1d, C), array(float64, 1d, C), array(float64, 1d, C), unicode_type, array(int64, 1d, C)\n"
     ]
    },
    {
     "name": "stderr",
     "output_type": "stream",
     "text": [
      "\u001b[32m[I 2021-11-15 21:20:50,355]\u001b[0m Trial 7 finished with value: 0.0 and parameters: {'optimizer': 'greedi'}. Best is trial 0 with value: 0.0.\u001b[0m\n"
     ]
    },
    {
     "name": "stdout",
     "output_type": "stream",
     "text": [
      "No matching definition for argument type(s) array(float64, 1d, C), array(int32, 1d, C), array(int32, 1d, C), array(float64, 1d, C), array(float64, 1d, C), unicode_type, array(int64, 1d, C)\n"
     ]
    },
    {
     "name": "stderr",
     "output_type": "stream",
     "text": [
      "\u001b[32m[I 2021-11-15 21:20:56,491]\u001b[0m Trial 8 finished with value: 0.0 and parameters: {'optimizer': 'approximate-lazy'}. Best is trial 0 with value: 0.0.\u001b[0m\n"
     ]
    },
    {
     "name": "stdout",
     "output_type": "stream",
     "text": [
      "No matching definition for argument type(s) array(float64, 1d, C), array(int32, 1d, C), array(int32, 1d, C), array(float64, 1d, C), array(float64, 1d, C), unicode_type, array(int64, 1d, C)\n"
     ]
    },
    {
     "name": "stderr",
     "output_type": "stream",
     "text": [
      "\u001b[32m[I 2021-11-15 21:21:03,081]\u001b[0m Trial 9 finished with value: 0.0 and parameters: {'optimizer': 'two-stage'}. Best is trial 0 with value: 0.0.\u001b[0m\n",
      "COMET INFO: Still uploading\n"
     ]
    },
    {
     "name": "stdout",
     "output_type": "stream",
     "text": [
      "No matching definition for argument type(s) array(float64, 1d, C), array(int32, 1d, C), array(int32, 1d, C), array(float64, 1d, C), array(float64, 1d, C), unicode_type, array(int64, 1d, C)\n",
      "{'optimizer': 'bidirectional'}\n"
     ]
    },
    {
     "name": "stderr",
     "output_type": "stream",
     "text": [
      "COMET WARNING: Config key 'comet.auto_log.weights' is deprecated, please use 'comet.auto_log.histogram_weights' instead\n",
      "COMET INFO: Experiment is live on comet.ml https://www.comet.ml/apricot/tweet-disaster/1296b684b93848a2868fbd8b1c5d8a81\n",
      "\n",
      "\u001b[32m[I 2021-11-15 21:21:07,010]\u001b[0m A new study created in memory with name: no-name-83ff6f59-628c-4ef3-b08f-9730aa65fb52\u001b[0m\n",
      "\u001b[32m[I 2021-11-15 21:21:13,202]\u001b[0m Trial 0 finished with value: 0.0 and parameters: {'optimizer': 'lazy'}. Best is trial 0 with value: 0.0.\u001b[0m\n"
     ]
    },
    {
     "name": "stdout",
     "output_type": "stream",
     "text": [
      "No matching definition for argument type(s) array(float64, 1d, C), array(int32, 1d, C), array(int32, 1d, C), array(float64, 1d, C), array(float64, 1d, C), unicode_type, array(int64, 1d, C)\n"
     ]
    },
    {
     "name": "stderr",
     "output_type": "stream",
     "text": [
      "\u001b[32m[I 2021-11-15 21:21:19,996]\u001b[0m Trial 1 finished with value: 0.0 and parameters: {'optimizer': 'modular'}. Best is trial 0 with value: 0.0.\u001b[0m\n"
     ]
    },
    {
     "name": "stdout",
     "output_type": "stream",
     "text": [
      "No matching definition for argument type(s) array(float64, 1d, C), array(int32, 1d, C), array(int32, 1d, C), array(float64, 1d, C), array(float64, 1d, C), unicode_type, array(int64, 1d, C)\n"
     ]
    },
    {
     "name": "stderr",
     "output_type": "stream",
     "text": [
      "\u001b[32m[I 2021-11-15 21:21:26,213]\u001b[0m Trial 2 finished with value: 0.0 and parameters: {'optimizer': 'approximate-lazy'}. Best is trial 0 with value: 0.0.\u001b[0m\n"
     ]
    },
    {
     "name": "stdout",
     "output_type": "stream",
     "text": [
      "No matching definition for argument type(s) array(float64, 1d, C), array(int32, 1d, C), array(int32, 1d, C), array(float64, 1d, C), array(float64, 1d, C), unicode_type, array(int64, 1d, C)\n"
     ]
    },
    {
     "name": "stderr",
     "output_type": "stream",
     "text": [
      "\u001b[32m[I 2021-11-15 21:21:32,434]\u001b[0m Trial 3 finished with value: 0.0 and parameters: {'optimizer': 'stochastic'}. Best is trial 0 with value: 0.0.\u001b[0m\n"
     ]
    },
    {
     "name": "stdout",
     "output_type": "stream",
     "text": [
      "No matching definition for argument type(s) array(float64, 1d, C), array(int32, 1d, C), array(int32, 1d, C), array(float64, 1d, C), array(float64, 1d, C), unicode_type, array(int64, 1d, C)\n"
     ]
    }
   ],
   "source": [
    "parameters = param('maxcoverage')\n",
    "search_alg = \"GRID\"\n",
    "algo = algo(search_alg, parameters)\n",
    "for i in [100, 500, 1000, 2500, 5000, 7500, 8000, 9000]:\n",
    "    experiment=init_experiment(api_key, 'tweet_disaster', 'apricot')\n",
    "    experiment.log_parameters({\n",
    "        'size': i,\n",
    "        'function': 'maxcoverage'\n",
    "    })\n",
    "    n = i    \n",
    "    def objective(trial):\n",
    "        config = suggest_config(parameters, trial)\n",
    "        roc=0.0\n",
    "        try:\n",
    "            start_time = time.time()\n",
    "            Xtr_t, Xte_t = maxcov(features_t, features_test_t, i, \"two_stage\")\n",
    "            experiment.log_metric(\"running_time\", time.time()-start_time)\n",
    "            Xtr = Xtr_t.transpose()\n",
    "            Xte = Xte_t.transpose()\n",
    "            acc, pre, rec, roc = train_eval(model, Xtr, Y_train, Xte, Y_test, experiment)\n",
    "        except Exception as err:\n",
    "            print(err)\n",
    "        finally:   \n",
    "            return roc\n",
    "    study = optuna.create_study(direction=\"maximize\", sampler=algo)\n",
    "    study.optimize(objective, n_trials=20, n_jobs=1)\n",
    "    best_param = study.best_params\n",
    "    print(best_param)\n",
    "    experiment.log_parameters({\n",
    "        'best param': best_param,\n",
    "        'size': i,\n",
    "        'function': 'maxcoverage'\n",
    "    })\n",
    "    experiment.end()"
   ]
  },
  {
   "cell_type": "code",
   "execution_count": null,
   "metadata": {},
   "outputs": [],
   "source": [
    "def randomtrain(X_tr, X_te, n):\n",
    "    X_train_arr = X_tr.to_numpy()\n",
    "    X_test_arr = X_te.to_numpy() \n",
    "    print(X_train_arr.shape, X_test_arr.shape)\n",
    "    idxs = np.arange(X_tr.shape[0])\n",
    "    np.random.shuffle(idxs)\n",
    "    idx = idxs[:n]\n",
    "    Xtr, Xte = X_train_arr[idx,:], X_test_arr[idx,:]\n",
    "    return Xtr, Xte"
   ]
  },
  {
   "cell_type": "code",
   "execution_count": null,
   "metadata": {},
   "outputs": [],
   "source": [
    "for j in [100, 500, 1000, 2500, 5000, 7500, 8000, 9000]: \n",
    "    for i in range(1,20):\n",
    "        n = j\n",
    "        experiment=init_experiment(api_key, 'tweet_disaster', 'apricot')\n",
    "        experiment.log_parameters({\n",
    "            'size': i,\n",
    "            'function': 'random'\n",
    "        })\n",
    "        Xtr_t, Xte_t = randomtrain(features_t, features_test_t, n)\n",
    "        Xtr = Xtr_t.transpose()\n",
    "        Xte = Xte_t.transpose()\n",
    "        from apricot_exp.evaluation import train_eval\n",
    "        train_eval(model, Xtr, Y_train, Xte, Y_test, experiment)\n",
    "        i = i+1\n",
    "        experiment.end()"
   ]
  },
  {
   "cell_type": "code",
   "execution_count": null,
   "metadata": {},
   "outputs": [],
   "source": [
    "from sklearn.ensemble import GradientBoostingClassifier\n",
    "model = GradientBoostingClassifier(n_estimators=20, max_depth=3)"
   ]
  },
  {
   "cell_type": "code",
   "execution_count": null,
   "metadata": {},
   "outputs": [],
   "source": [
    "from apricot_exp.evaluation import train_eval\n",
    "train_eval(model, features,  Y_train, features_test, Y_test, experiment)"
   ]
  },
  {
   "cell_type": "markdown",
   "metadata": {},
   "source": [
    "## PCA"
   ]
  },
  {
   "cell_type": "code",
   "execution_count": null,
   "metadata": {},
   "outputs": [],
   "source": [
    "#pca = PCA(n_components=2)"
   ]
  },
  {
   "cell_type": "code",
   "execution_count": null,
   "metadata": {},
   "outputs": [],
   "source": [
    "#from sklearn.preprocessing import StandardScaler\n",
    "#f = list(range(0, 10000))\n",
    "#x = features[:, f]\n",
    "#x = StandardScaler().fit_transform(x)\n",
    "#x = pd.DataFrame(x)"
   ]
  },
  {
   "cell_type": "code",
   "execution_count": null,
   "metadata": {},
   "outputs": [],
   "source": [
    "#from sklearn.decomposition import PCA\n",
    "#pca = PCA(n_components=100)\n",
    "#x_pca = pca.fit_transform(x)\n",
    "#x_pca = pd.DataFrame(x_pca)\n",
    "#x_pca.head()"
   ]
  },
  {
   "cell_type": "markdown",
   "metadata": {},
   "source": [
    "## Visualization"
   ]
  },
  {
   "cell_type": "code",
   "execution_count": null,
   "metadata": {},
   "outputs": [],
   "source": [
    "experiment.display(tab=\"tweet disaster\")"
   ]
  },
  {
   "cell_type": "code",
   "execution_count": null,
   "metadata": {},
   "outputs": [],
   "source": [
    "import neptune\n",
    "project = neptune.init(project_qualified_name='bartalisd/nlp-disaster-tweets',\n",
    "             api_token='eyJhcGlfYWRkcmVzcyI6Imh0dHBzOi8vdWkubmVwdHVuZS5haSIsImFwaV91cmwiOiJodHRwczovL3VpLm5lcHR1bmUuYWkiLCJhcGlfa2V5IjoiNmY5YjdlNTgtNjMxNC00ODQyLThiNGItNmM5NTBmZTM1MjA4In0=', \n",
    "            )\n",
    "\n",
    "# Download experiments dashboard as pandas DataFrame\n",
    "data = project.get_leaderboard()\n",
    "\n",
    "data=data[data['tags'].map(len) > 1]\n",
    "data = data.drop(['name','created', 'finished','owner','notes', 'running_time','size'], axis=1)\n",
    "for i in ['channel_roc', 'channel_acc', 'channel_rec', 'channel_pre']:\n",
    "    data[i]=data[i].astype(\"float64\")"
   ]
  },
  {
   "cell_type": "code",
   "execution_count": null,
   "metadata": {},
   "outputs": [],
   "source": [
    "import seaborn as sns\n",
    "import matplotlib.pyplot as plt\n",
    "def barplot_res(dataframe, percentage, metric, y_name):\n",
    "    selector = dataframe.apply(lambda x: percentage in x[\"tags\"], axis=1)\n",
    "    data_percentage=dataframe.loc[selector, :]\n",
    "    data_percentage[\"tags\"]=data_percentage[\"tags\"].apply(lambda x: str(x))\n",
    "    res_percentage=data_percentage.groupby(by='tags')[metric].mean().reset_index()\n",
    "    res_percentage['model']=res_percentage['tags'].apply(lambda x: eval(x)[1])\n",
    "    ax=sns.barplot(data=res_percentage, x='model', y=metric)\n",
    "    plt.ylim((0.5, 0.9))\n",
    "    ax.set(xlabel='Model', ylabel=y_name, title =percentage)\n",
    "    ax.set_xticklabels(ax.get_xticklabels(), rotation=60)\n",
    "    return ax, res_percentage\n",
    "def lineplot_res(dataframe, y_name, metric, res5k, mod):\n",
    "    data=dataframe.copy()\n",
    "    data['percentage']=data['tags'].apply(lambda x: x[1])\n",
    "    data=data[~data['percentage'].apply(lambda x: 'd' in str(x))]\n",
    "    data['model']=data['tags'].apply(lambda x: x[0])\n",
    "    functions=['facilityloc_d', 'featurebased_d', 'maxcov_d', 'random_d', 'Tfidf']\n",
    "    data=data[data['model'].isin(functions)]\n",
    "    result=data.groupby(by=['model','percentage'])[metric].mean().reset_index()\n",
    "    ax=sns.lineplot(data=result, x='percentage', y=metric, hue='model', palette=['yellow', 'b','r','forestgreen','blueviolet'  ])\n",
    "    ax.set_title(mod,fontdict= { 'fontsize': 20, 'fontweight':'bold'})\n",
    "    plt.xlabel('Number of features', fontsize= 15)\n",
    "    plt.ylabel(y_name, fontsize= 15)\n",
    "    plt.axhline(y=res5k, color='brown', linestyle='--')\n",
    "    plt.setp(ax.get_legend().get_texts(), fontsize='15')\n",
    "    plt.setp(ax.get_legend().get_title(), fontsize='20')\n",
    "    return ax"
   ]
  },
  {
   "cell_type": "code",
   "execution_count": null,
   "metadata": {},
   "outputs": [],
   "source": [
    "lineplot_res(data, 'Accuracy', 'channel_acc', 0.7984049623393886, 'NLP - Disasters tweets: Dim reduction' )"
   ]
  },
  {
   "cell_type": "code",
   "execution_count": null,
   "metadata": {},
   "outputs": [],
   "source": [
    "lineplot_res(data, 'Precision', 'channel_pre', 0.8259162303664922, 'NLP - Disasters tweets: Dim reduction' )"
   ]
  },
  {
   "cell_type": "code",
   "execution_count": null,
   "metadata": {},
   "outputs": [],
   "source": [
    "lineplot_res(data, 'Recall', 'channel_rec', 0.6621196222455404, 'NLP - Disasters tweets: Dim reduction' )"
   ]
  },
  {
   "cell_type": "code",
   "execution_count": null,
   "metadata": {},
   "outputs": [],
   "source": [
    "lineplot_res(data, 'ROC AUC', 'channel_roc', 0.8622086211447222, 'NLP - Disasters tweets: Dim reduction' )"
   ]
  },
  {
   "cell_type": "code",
   "execution_count": null,
   "metadata": {},
   "outputs": [],
   "source": []
  }
 ],
 "metadata": {
  "kernelspec": {
   "display_name": "Python 3",
   "language": "python",
   "name": "python3"
  },
  "language_info": {
   "codemirror_mode": {
    "name": "ipython",
    "version": 3
   },
   "file_extension": ".py",
   "mimetype": "text/x-python",
   "name": "python",
   "nbconvert_exporter": "python",
   "pygments_lexer": "ipython3",
   "version": "3.6.12"
  }
 },
 "nbformat": 4,
 "nbformat_minor": 4
}
