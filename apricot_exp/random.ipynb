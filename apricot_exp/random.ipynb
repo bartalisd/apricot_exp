{
 "cells": [
  {
   "cell_type": "code",
   "execution_count": 1,
   "id": "unsigned-faith",
   "metadata": {},
   "outputs": [],
   "source": [
    "def randomtrain_eval(model, X_tr, Y_tr, X_te, Y_te):\n",
    "    X_train_arr = X_tr.to_numpy()\n",
    "    Y_train_arr = np.array(Y_tr)\n",
    "    idxs = np.arange(X_tr.shape[0])\n",
    "    np.random.shuffle(idxs)\n",
    "    idx = idxs[:n]\n",
    "    Xi, yi = X_tr[idx], Y_tr[idx]  \n",
    "    model.fit(Xi, yi)\n",
    "    Y_pred = model.predict(X_te)\n",
    "    Y_pred_proba = model.predict_proba(X_te)[:,1]\n",
    "    acc = accuracy_score(Y_te, Y_pred)\n",
    "    pre = precision_score(Y_te, Y_pred)\n",
    "    rec = recall_score(Y_te, Y_pred)\n",
    "    roc = roc_auc_score(Y_te, Y_pred_proba)\n",
    "    neptune.log_metric('acc',acc)\n",
    "    neptune.log_metric('pre',pre)\n",
    "    neptune.log_metric('rec',rec)\n",
    "    neptune.log_metric('roc',roc)\n",
    "    return acc, pre, rec, roc"
   ]
  },
  {
   "cell_type": "code",
   "execution_count": null,
   "id": "worst-holiday",
   "metadata": {},
   "outputs": [],
   "source": []
  }
 ],
 "metadata": {
  "kernelspec": {
   "display_name": "Python 3",
   "language": "python",
   "name": "python3"
  },
  "language_info": {
   "codemirror_mode": {
    "name": "ipython",
    "version": 3
   },
   "file_extension": ".py",
   "mimetype": "text/x-python",
   "name": "python",
   "nbconvert_exporter": "python",
   "pygments_lexer": "ipython3",
   "version": "3.6.12"
  }
 },
 "nbformat": 4,
 "nbformat_minor": 5
}
