{
 "cells": [
  {
   "cell_type": "code",
   "execution_count": 1,
   "id": "equipped-breath",
   "metadata": {},
   "outputs": [],
   "source": [
    "def maxcov(X_train, Y_train, n):\n",
    "    from scipy.sparse import csr_matrix\n",
    "    X_train_arr = csr_matrix(X_train.values)\n",
    "    Y_train_arr = np.array(Y_train)\n",
    "    from apricot import MaxCoverageSelection\n",
    "    selector = MaxCoverageSelection(n, optimizer='naive')\n",
    "    selector.fit(X_train_arr)\n",
    "    Xi, yi = selector.transform(X_train_arr, Y_train_arr)\n",
    "    return(Xi, yi)"
   ]
  },
  {
   "cell_type": "code",
   "execution_count": null,
   "id": "everyday-prize",
   "metadata": {},
   "outputs": [],
   "source": []
  }
 ],
 "metadata": {
  "kernelspec": {
   "display_name": "Python 3",
   "language": "python",
   "name": "python3"
  },
  "language_info": {
   "codemirror_mode": {
    "name": "ipython",
    "version": 3
   },
   "file_extension": ".py",
   "mimetype": "text/x-python",
   "name": "python",
   "nbconvert_exporter": "python",
   "pygments_lexer": "ipython3",
   "version": "3.6.12"
  }
 },
 "nbformat": 4,
 "nbformat_minor": 5
}
