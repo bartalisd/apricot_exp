{
 "cells": [
  {
   "cell_type": "code",
   "execution_count": 1,
   "id": "structured-chemistry",
   "metadata": {},
   "outputs": [],
   "source": [
    "def lineplot_res(dataframe, y_name, metric, gbc_result):\n",
    "    data=dataframe.copy()\n",
    "    data['percentage']=data['tags'].apply(lambda x: x[0])\n",
    "    data=data[~data['percentage'].apply(lambda x: 'd' in str(x))]\n",
    "    data['model']=data['tags'].apply(lambda x: x[1])\n",
    "    result=data.groupby(by=['model','percentage'])[metric].mean().reset_index()\n",
    "    ax=sns.lineplot(data=result, x='percentage', y=metric, hue='model')\n",
    "    ax.set(xlabel='Training set size', ylabel=y_name)\n",
    "    plt.axhline(y=gbc_result, color='brown', linestyle='--')\n",
    "    return ax"
   ]
  },
  {
   "cell_type": "code",
   "execution_count": null,
   "id": "informal-nurse",
   "metadata": {},
   "outputs": [],
   "source": []
  }
 ],
 "metadata": {
  "kernelspec": {
   "display_name": "Python 3",
   "language": "python",
   "name": "python3"
  },
  "language_info": {
   "codemirror_mode": {
    "name": "ipython",
    "version": 3
   },
   "file_extension": ".py",
   "mimetype": "text/x-python",
   "name": "python",
   "nbconvert_exporter": "python",
   "pygments_lexer": "ipython3",
   "version": "3.6.12"
  }
 },
 "nbformat": 4,
 "nbformat_minor": 5
}
