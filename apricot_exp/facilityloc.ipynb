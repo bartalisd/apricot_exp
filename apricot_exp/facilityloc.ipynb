{
 "cells": [
  {
   "cell_type": "code",
   "execution_count": 6,
   "id": "lightweight-horse",
   "metadata": {},
   "outputs": [],
   "source": [
    "def facilityloc(X_train, Y_train, n, metric):\n",
    "    X_train_arr = X_train.to_numpy() \n",
    "    Y_train_arr = np.array(Y_train)\n",
    "    from apricot import FacilityLocationSelection \n",
    "    selector = FacilityLocationSelection(n, metric, verbose=True) \n",
    "    selector.fit(X_train)\n",
    "    Xi, yi = selector.transform(X_train_arr, Y_train_arr)\n",
    "    return(Xi, yi)"
   ]
  },
  {
   "cell_type": "code",
   "execution_count": null,
   "id": "foreign-maker",
   "metadata": {},
   "outputs": [],
   "source": []
  }
 ],
 "metadata": {
  "kernelspec": {
   "display_name": "Python 3",
   "language": "python",
   "name": "python3"
  },
  "language_info": {
   "codemirror_mode": {
    "name": "ipython",
    "version": 3
   },
   "file_extension": ".py",
   "mimetype": "text/x-python",
   "name": "python",
   "nbconvert_exporter": "python",
   "pygments_lexer": "ipython3",
   "version": "3.6.12"
  }
 },
 "nbformat": 4,
 "nbformat_minor": 5
}
