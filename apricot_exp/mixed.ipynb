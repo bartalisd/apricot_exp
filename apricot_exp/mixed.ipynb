{
 "cells": [
  {
   "cell_type": "code",
   "execution_count": 3,
   "id": "junior-webmaster",
   "metadata": {},
   "outputs": [],
   "source": [
    "def mixed(X_train, Y_train, n, metric, function):\n",
    "    from scipy.sparse import csr_matrix\n",
    "    X_train_arr = csr_matrix(X_train.values)\n",
    "    Y_train_arr = np.array(Y_train)\n",
    "    from apricot import FacilityLocationSelection\n",
    "    from apricot import FeatureBasedSelection\n",
    "    from apricot import MaxCoverageSelection\n",
    "    selector1 = FacilityLocationSelection(int(n/3), metric, verbose=True)\n",
    "    selector1.fit(X_train)\n",
    "    selector2 = FeatureBasedSelection(int(n/3), concave_func=function, optimizer='two-stage', verbose=False)\n",
    "    selector2.fit(X_train_arr)\n",
    "    selector3 = MaxCoverageSelection(int(n/3), optimizer='naive')\n",
    "    selector3.fit(X_train_arr)\n",
    "    X1, y1 = selector1.transform(X_train_arr, Y_train_arr)\n",
    "    X2, y2 = selector1.transform(X_train_arr, Y_train_arr)\n",
    "    X3, y3 = selector1.transform(X_train_arr, Y_train_arr)\n",
    "    X1 = pd.DataFrame(X1.toarray())\n",
    "    X2 = pd.DataFrame(X2.toarray())\n",
    "    X3 = pd.DataFrame(X3.toarray())\n",
    "    X_frames = [X1, X2, X3]\n",
    "    X_train_a=pd.concat(X_frames)\n",
    "    y1 = pd.DataFrame(y1)\n",
    "    y2 = pd.DataFrame(y2)\n",
    "    y3 = pd.DataFrame(y3)\n",
    "    Y_frames = [y1, y2, y3]\n",
    "    Y_train_a=pd.concat(Y_frames)\n",
    "    return(X_train_a, Y_train_a)"
   ]
  },
  {
   "cell_type": "code",
   "execution_count": null,
   "id": "temporal-chart",
   "metadata": {},
   "outputs": [],
   "source": []
  }
 ],
 "metadata": {
  "kernelspec": {
   "display_name": "Python 3",
   "language": "python",
   "name": "python3"
  },
  "language_info": {
   "codemirror_mode": {
    "name": "ipython",
    "version": 3
   },
   "file_extension": ".py",
   "mimetype": "text/x-python",
   "name": "python",
   "nbconvert_exporter": "python",
   "pygments_lexer": "ipython3",
   "version": "3.6.12"
  }
 },
 "nbformat": 4,
 "nbformat_minor": 5
}
