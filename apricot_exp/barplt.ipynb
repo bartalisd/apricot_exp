{
 "cells": [
  {
   "cell_type": "code",
   "execution_count": 1,
   "id": "common-suspension",
   "metadata": {},
   "outputs": [],
   "source": [
    "def barplot_res(dataframe, percentage, metric, y_name):\n",
    "    selector = dataframe.apply(lambda x: percentage in x[\"tags\"], axis=1)\n",
    "    data_percentage=dataframe.loc[selector, :]\n",
    "    data_percentage[\"tags\"]=data_percentage[\"tags\"].apply(lambda x: str(x))\n",
    "    res_percentage=data_percentage.groupby(by='tags')[metric].mean().reset_index()\n",
    "    res_percentage['model']=res_percentage['tags'].apply(lambda x: eval(x)[1])\n",
    "    ax=sns.barplot(data=res_percentage, x='model', y=metric)\n",
    "    plt.ylim((0.5, 0.9))\n",
    "    ax.set(xlabel='Model', ylabel=y_name, title =percentage)\n",
    "    ax.set_xticklabels(ax.get_xticklabels(), rotation=60)\n",
    "    return ax, res_percentage"
   ]
  },
  {
   "cell_type": "code",
   "execution_count": null,
   "id": "conventional-matrix",
   "metadata": {},
   "outputs": [],
   "source": []
  }
 ],
 "metadata": {
  "kernelspec": {
   "display_name": "Python 3",
   "language": "python",
   "name": "python3"
  },
  "language_info": {
   "codemirror_mode": {
    "name": "ipython",
    "version": 3
   },
   "file_extension": ".py",
   "mimetype": "text/x-python",
   "name": "python",
   "nbconvert_exporter": "python",
   "pygments_lexer": "ipython3",
   "version": "3.6.12"
  }
 },
 "nbformat": 4,
 "nbformat_minor": 5
}
