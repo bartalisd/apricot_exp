{
 "cells": [
  {
   "cell_type": "code",
   "execution_count": 1,
   "id": "laden-setup",
   "metadata": {},
   "outputs": [],
   "source": [
    "def featureb(X_train, Y_train, n, function):\n",
    "    from scipy.sparse import csr_matrix\n",
    "    X_train_arr = csr_matrix(X_train.values)\n",
    "    Y_train_arr = np.array(Y_train)\n",
    "    from apricot import FeatureBasedSelection\n",
    "    selector = FeatureBasedSelection(n, concave_func=function, optimizer='two-stage', verbose=False)\n",
    "    selector.fit(X_train_arr)\n",
    "    Xi, yi = selector.transform(X_train_arr, Y_train_arr)\n",
    "    return(Xi, yi)"
   ]
  },
  {
   "cell_type": "code",
   "execution_count": null,
   "id": "automotive-basketball",
   "metadata": {},
   "outputs": [],
   "source": []
  }
 ],
 "metadata": {
  "kernelspec": {
   "display_name": "Python 3",
   "language": "python",
   "name": "python3"
  },
  "language_info": {
   "codemirror_mode": {
    "name": "ipython",
    "version": 3
   },
   "file_extension": ".py",
   "mimetype": "text/x-python",
   "name": "python",
   "nbconvert_exporter": "python",
   "pygments_lexer": "ipython3",
   "version": "3.6.12"
  }
 },
 "nbformat": 4,
 "nbformat_minor": 5
}
